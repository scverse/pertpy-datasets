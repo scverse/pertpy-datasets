{
 "cells": [
  {
   "cell_type": "code",
   "execution_count": 32,
   "metadata": {},
   "outputs": [
    {
     "name": "stdout",
     "output_type": "stream",
     "text": [
      "--2024-01-02 14:06:32--  https://github.com/Teichlab/drug2cell/blob/main/drug2cell/drug-target_dicts.pkl\n",
      "Loaded CA certificate '/etc/ssl/certs/ca-certificates.crt'\n",
      "Resolving github.com (github.com)... 140.82.121.4\n",
      "Connecting to github.com (github.com)|140.82.121.4|:443... connected.\n",
      "HTTP request sent, awaiting response... 200 OK\n",
      "Length: 4975 (4.9K) [text/plain]\n",
      "Saving to: ‘drug-target_dicts.pkl.2’\n",
      "\n",
      "drug-target_dicts.p 100%[===================>]   4.86K  --.-KB/s    in 0s      \n",
      "\n",
      "2024-01-02 14:06:33 (34.1 MB/s) - ‘drug-target_dicts.pkl.2’ saved [4975/4975]\n",
      "\n"
     ]
    }
   ],
   "source": [
    "!wget https://github.com/Teichlab/drug2cell/blob/main/drug2cell/drug-target_dicts.pkl"
   ]
  },
  {
   "cell_type": "code",
   "execution_count": 33,
   "metadata": {},
   "outputs": [
    {
     "name": "stderr",
     "output_type": "stream",
     "text": [
      "/tmp/ipykernel_150539/3170910823.py:7: DeprecationWarning: open_binary is deprecated. Use files() instead. Refer to https://importlib-resources.readthedocs.io/en/latest/using.html#migrating-from-legacy for migration advice.\n",
      "  with pkg_resources.open_binary(\"drug2cell\", 'drug-target_dicts.pkl') as stream:\n"
     ]
    }
   ],
   "source": [
    "import importlib.resources as pkg_resources\n",
    "import pandas as pd\n",
    "from collections import ChainMap\n",
    "\n",
    "targets = None\n",
    "\n",
    "with pkg_resources.open_binary(\"drug2cell\", \"drug-target_dicts.pkl\") as stream:\n",
    "    targets = pd.read_pickle(stream)"
   ]
  },
  {
   "cell_type": "code",
   "execution_count": 34,
   "metadata": {},
   "outputs": [],
   "source": [
    "import json\n",
    "\n",
    "with open(\"chembl.json\", \"w\") as file:\n",
    "    json.dump(targets, file, indent=4)"
   ]
  },
  {
   "cell_type": "code",
   "execution_count": 35,
   "metadata": {},
   "outputs": [],
   "source": [
    "with open(\"chembl.json\", \"r\") as file:\n",
    "    json_content = json.load(file)"
   ]
  },
  {
   "cell_type": "code",
   "execution_count": 37,
   "metadata": {},
   "outputs": [],
   "source": [
    "json_content = dict(ChainMap(*[json_content[cat] for cat in json_content]))"
   ]
  },
  {
   "cell_type": "code",
   "execution_count": 38,
   "metadata": {},
   "outputs": [
    {
     "data": {
      "text/html": [
       "<div>\n",
       "<style scoped>\n",
       "    .dataframe tbody tr th:only-of-type {\n",
       "        vertical-align: middle;\n",
       "    }\n",
       "\n",
       "    .dataframe tbody tr th {\n",
       "        vertical-align: top;\n",
       "    }\n",
       "\n",
       "    .dataframe thead th {\n",
       "        text-align: right;\n",
       "    }\n",
       "</style>\n",
       "<table border=\"1\" class=\"dataframe\">\n",
       "  <thead>\n",
       "    <tr style=\"text-align: right;\">\n",
       "      <th></th>\n",
       "      <th>Compound</th>\n",
       "      <th>Targets</th>\n",
       "    </tr>\n",
       "  </thead>\n",
       "  <tbody>\n",
       "    <tr>\n",
       "      <th>0</th>\n",
       "      <td>CHEMBL1615779|IOBENGUANE I 131</td>\n",
       "      <td>[SLC6A2]</td>\n",
       "    </tr>\n",
       "    <tr>\n",
       "      <th>1</th>\n",
       "      <td>CHEMBL3989924|LUTETIUM DOTATATE LU-177</td>\n",
       "      <td>[SSTR3, SSTR2, SSTR1, SSTR5, SSTR4]</td>\n",
       "    </tr>\n",
       "    <tr>\n",
       "      <th>2</th>\n",
       "      <td>CHEMBL2108709|COLLAGENASE CLOSTRIDIUM HISTOLYT...</td>\n",
       "      <td>[COL1A1, COL5A3, COL4A3, COL6A5, COL6A1, COL15...</td>\n",
       "    </tr>\n",
       "    <tr>\n",
       "      <th>3</th>\n",
       "      <td>CHEMBL256997|ATALUREN</td>\n",
       "      <td>[RPS24, RPS11, RPS17, RPS14, RPL9P8, RPL18A, R...</td>\n",
       "    </tr>\n",
       "    <tr>\n",
       "      <th>4</th>\n",
       "      <td>CHEMBL4297240|ONASEMNOGENE ABEPARVOVEC</td>\n",
       "      <td>[SMN1, SMN2]</td>\n",
       "    </tr>\n",
       "    <tr>\n",
       "      <th>...</th>\n",
       "      <td>...</td>\n",
       "      <td>...</td>\n",
       "    </tr>\n",
       "    <tr>\n",
       "      <th>2392</th>\n",
       "      <td>CHEMBL2068724|ACAMPROSATE CALCIUM</td>\n",
       "      <td>[GABRB2, GABRA1, GABRB1, GRIN2C, GRIN2D, GRIN2...</td>\n",
       "    </tr>\n",
       "    <tr>\n",
       "      <th>2393</th>\n",
       "      <td>CHEMBL1562610|MECLOFENAMATE SODIUM</td>\n",
       "      <td>[ALOX5, GMNN, PTGS1, CYP2C9, PTGS2]</td>\n",
       "    </tr>\n",
       "    <tr>\n",
       "      <th>2394</th>\n",
       "      <td>CHEMBL1200467|HYDROXYZINE PAMOATE</td>\n",
       "      <td>[POLI, EHMT2, FEN1, HRH1, HSD17B10, KDM4A, PLK...</td>\n",
       "    </tr>\n",
       "    <tr>\n",
       "      <th>2395</th>\n",
       "      <td>CHEMBL454|BUTALBITAL</td>\n",
       "      <td>[GABRE, GABRG3, GABRB2, GABRG2, GABRB1, GABRA3...</td>\n",
       "    </tr>\n",
       "    <tr>\n",
       "      <th>2396</th>\n",
       "      <td>CHEMBL2105741|TRAMETINIB DIMETHYL SULFOXIDE</td>\n",
       "      <td>[MAP2K1, MAP2K2]</td>\n",
       "    </tr>\n",
       "  </tbody>\n",
       "</table>\n",
       "<p>2397 rows × 2 columns</p>\n",
       "</div>"
      ],
      "text/plain": [
       "                                               Compound  \\\n",
       "0                        CHEMBL1615779|IOBENGUANE I 131   \n",
       "1                CHEMBL3989924|LUTETIUM DOTATATE LU-177   \n",
       "2     CHEMBL2108709|COLLAGENASE CLOSTRIDIUM HISTOLYT...   \n",
       "3                                 CHEMBL256997|ATALUREN   \n",
       "4                CHEMBL4297240|ONASEMNOGENE ABEPARVOVEC   \n",
       "...                                                 ...   \n",
       "2392                  CHEMBL2068724|ACAMPROSATE CALCIUM   \n",
       "2393                 CHEMBL1562610|MECLOFENAMATE SODIUM   \n",
       "2394                  CHEMBL1200467|HYDROXYZINE PAMOATE   \n",
       "2395                               CHEMBL454|BUTALBITAL   \n",
       "2396        CHEMBL2105741|TRAMETINIB DIMETHYL SULFOXIDE   \n",
       "\n",
       "                                                Targets  \n",
       "0                                              [SLC6A2]  \n",
       "1                   [SSTR3, SSTR2, SSTR1, SSTR5, SSTR4]  \n",
       "2     [COL1A1, COL5A3, COL4A3, COL6A5, COL6A1, COL15...  \n",
       "3     [RPS24, RPS11, RPS17, RPS14, RPL9P8, RPL18A, R...  \n",
       "4                                          [SMN1, SMN2]  \n",
       "...                                                 ...  \n",
       "2392  [GABRB2, GABRA1, GABRB1, GRIN2C, GRIN2D, GRIN2...  \n",
       "2393                [ALOX5, GMNN, PTGS1, CYP2C9, PTGS2]  \n",
       "2394  [POLI, EHMT2, FEN1, HRH1, HSD17B10, KDM4A, PLK...  \n",
       "2395  [GABRE, GABRG3, GABRB2, GABRG2, GABRB1, GABRA3...  \n",
       "2396                                   [MAP2K1, MAP2K2]  \n",
       "\n",
       "[2397 rows x 2 columns]"
      ]
     },
     "execution_count": 38,
     "metadata": {},
     "output_type": "execute_result"
    }
   ],
   "source": [
    "df = pd.DataFrame([{\"Compound\": k, \"Targets\": v} for k, v in json_content.items()])\n",
    "df"
   ]
  },
  {
   "cell_type": "code",
   "execution_count": 39,
   "metadata": {},
   "outputs": [],
   "source": [
    "targets = dict(ChainMap(*[targets[cat] for cat in targets]))"
   ]
  },
  {
   "cell_type": "code",
   "execution_count": 40,
   "metadata": {},
   "outputs": [
    {
     "data": {
      "text/html": [
       "<div>\n",
       "<style scoped>\n",
       "    .dataframe tbody tr th:only-of-type {\n",
       "        vertical-align: middle;\n",
       "    }\n",
       "\n",
       "    .dataframe tbody tr th {\n",
       "        vertical-align: top;\n",
       "    }\n",
       "\n",
       "    .dataframe thead th {\n",
       "        text-align: right;\n",
       "    }\n",
       "</style>\n",
       "<table border=\"1\" class=\"dataframe\">\n",
       "  <thead>\n",
       "    <tr style=\"text-align: right;\">\n",
       "      <th></th>\n",
       "      <th>Compound</th>\n",
       "      <th>Targets</th>\n",
       "    </tr>\n",
       "  </thead>\n",
       "  <tbody>\n",
       "    <tr>\n",
       "      <th>0</th>\n",
       "      <td>CHEMBL1615779|IOBENGUANE I 131</td>\n",
       "      <td>[SLC6A2]</td>\n",
       "    </tr>\n",
       "    <tr>\n",
       "      <th>1</th>\n",
       "      <td>CHEMBL3989924|LUTETIUM DOTATATE LU-177</td>\n",
       "      <td>[SSTR3, SSTR2, SSTR1, SSTR5, SSTR4]</td>\n",
       "    </tr>\n",
       "    <tr>\n",
       "      <th>2</th>\n",
       "      <td>CHEMBL2108709|COLLAGENASE CLOSTRIDIUM HISTOLYT...</td>\n",
       "      <td>[COL1A1, COL5A3, COL4A3, COL6A5, COL6A1, COL15...</td>\n",
       "    </tr>\n",
       "    <tr>\n",
       "      <th>3</th>\n",
       "      <td>CHEMBL256997|ATALUREN</td>\n",
       "      <td>[RPS24, RPS11, RPS17, RPS14, RPL9P8, RPL18A, R...</td>\n",
       "    </tr>\n",
       "    <tr>\n",
       "      <th>4</th>\n",
       "      <td>CHEMBL4297240|ONASEMNOGENE ABEPARVOVEC</td>\n",
       "      <td>[SMN1, SMN2]</td>\n",
       "    </tr>\n",
       "    <tr>\n",
       "      <th>...</th>\n",
       "      <td>...</td>\n",
       "      <td>...</td>\n",
       "    </tr>\n",
       "    <tr>\n",
       "      <th>2392</th>\n",
       "      <td>CHEMBL2068724|ACAMPROSATE CALCIUM</td>\n",
       "      <td>[GABRB2, GABRA1, GABRB1, GRIN2C, GRIN2D, GRIN2...</td>\n",
       "    </tr>\n",
       "    <tr>\n",
       "      <th>2393</th>\n",
       "      <td>CHEMBL1562610|MECLOFENAMATE SODIUM</td>\n",
       "      <td>[ALOX5, GMNN, PTGS1, CYP2C9, PTGS2]</td>\n",
       "    </tr>\n",
       "    <tr>\n",
       "      <th>2394</th>\n",
       "      <td>CHEMBL1200467|HYDROXYZINE PAMOATE</td>\n",
       "      <td>[POLI, EHMT2, FEN1, HRH1, HSD17B10, KDM4A, PLK...</td>\n",
       "    </tr>\n",
       "    <tr>\n",
       "      <th>2395</th>\n",
       "      <td>CHEMBL454|BUTALBITAL</td>\n",
       "      <td>[GABRE, GABRG3, GABRB2, GABRG2, GABRB1, GABRA3...</td>\n",
       "    </tr>\n",
       "    <tr>\n",
       "      <th>2396</th>\n",
       "      <td>CHEMBL2105741|TRAMETINIB DIMETHYL SULFOXIDE</td>\n",
       "      <td>[MAP2K1, MAP2K2]</td>\n",
       "    </tr>\n",
       "  </tbody>\n",
       "</table>\n",
       "<p>2397 rows × 2 columns</p>\n",
       "</div>"
      ],
      "text/plain": [
       "                                               Compound  \\\n",
       "0                        CHEMBL1615779|IOBENGUANE I 131   \n",
       "1                CHEMBL3989924|LUTETIUM DOTATATE LU-177   \n",
       "2     CHEMBL2108709|COLLAGENASE CLOSTRIDIUM HISTOLYT...   \n",
       "3                                 CHEMBL256997|ATALUREN   \n",
       "4                CHEMBL4297240|ONASEMNOGENE ABEPARVOVEC   \n",
       "...                                                 ...   \n",
       "2392                  CHEMBL2068724|ACAMPROSATE CALCIUM   \n",
       "2393                 CHEMBL1562610|MECLOFENAMATE SODIUM   \n",
       "2394                  CHEMBL1200467|HYDROXYZINE PAMOATE   \n",
       "2395                               CHEMBL454|BUTALBITAL   \n",
       "2396        CHEMBL2105741|TRAMETINIB DIMETHYL SULFOXIDE   \n",
       "\n",
       "                                                Targets  \n",
       "0                                              [SLC6A2]  \n",
       "1                   [SSTR3, SSTR2, SSTR1, SSTR5, SSTR4]  \n",
       "2     [COL1A1, COL5A3, COL4A3, COL6A5, COL6A1, COL15...  \n",
       "3     [RPS24, RPS11, RPS17, RPS14, RPL9P8, RPL18A, R...  \n",
       "4                                          [SMN1, SMN2]  \n",
       "...                                                 ...  \n",
       "2392  [GABRB2, GABRA1, GABRB1, GRIN2C, GRIN2D, GRIN2...  \n",
       "2393                [ALOX5, GMNN, PTGS1, CYP2C9, PTGS2]  \n",
       "2394  [POLI, EHMT2, FEN1, HRH1, HSD17B10, KDM4A, PLK...  \n",
       "2395  [GABRE, GABRG3, GABRB2, GABRG2, GABRB1, GABRA3...  \n",
       "2396                                   [MAP2K1, MAP2K2]  \n",
       "\n",
       "[2397 rows x 2 columns]"
      ]
     },
     "execution_count": 40,
     "metadata": {},
     "output_type": "execute_result"
    }
   ],
   "source": [
    "df = pd.DataFrame([{\"Compound\": k, \"Targets\": v} for k, v in targets.items()])\n",
    "df"
   ]
  },
  {
   "cell_type": "code",
   "execution_count": 41,
   "metadata": {},
   "outputs": [],
   "source": [
    "df.to_parquet(\"chembl.parquet\")"
   ]
  }
 ],
 "metadata": {
  "kernelspec": {
   "display_name": "pertpy",
   "language": "python",
   "name": "python3"
  },
  "language_info": {
   "codemirror_mode": {
    "name": "ipython",
    "version": 3
   },
   "file_extension": ".py",
   "mimetype": "text/x-python",
   "name": "python",
   "nbconvert_exporter": "python",
   "pygments_lexer": "ipython3",
   "version": "3.12.2"
  }
 },
 "nbformat": 4,
 "nbformat_minor": 2
}
