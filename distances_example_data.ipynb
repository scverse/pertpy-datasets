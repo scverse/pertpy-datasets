{
 "cells": [
  {
   "cell_type": "code",
   "execution_count": 10,
   "metadata": {},
   "outputs": [],
   "source": [
    "import pertpy as pt\n",
    "import scanpy as sc\n",
    "import numpy as np"
   ]
  },
  {
   "cell_type": "code",
   "execution_count": 11,
   "metadata": {},
   "outputs": [],
   "source": [
    "adata = pt.dt.dixit_2016_scperturb()"
   ]
  },
  {
   "cell_type": "code",
   "execution_count": 12,
   "metadata": {},
   "outputs": [],
   "source": [
    "# basic qc and pp\n",
    "sc.pp.filter_cells(adata, min_counts=1000)\n",
    "sc.pp.normalize_per_cell(adata)\n",
    "sc.pp.filter_genes(adata, min_cells=50)\n",
    "sc.pp.log1p(adata)"
   ]
  },
  {
   "cell_type": "code",
   "execution_count": 13,
   "metadata": {},
   "outputs": [],
   "source": [
    "# subsample against high class imbalance (and to reduce memory footprint for the tutorial set)\n",
    "N_min = 100\n",
    "counts = adata.obs[\"perturbation\"].value_counts()\n",
    "groups = counts.index[counts >= N_min]\n",
    "indices = [\n",
    "    np.random.choice(\n",
    "        adata.obs_names[adata.obs[\"perturbation\"] == group], size=N_min, replace=False\n",
    "    )\n",
    "    for group in groups\n",
    "]\n",
    "selection = np.hstack(np.array(indices))\n",
    "adata = adata[selection].copy()\n",
    "sc.pp.filter_genes(adata, min_cells=3)  # sanity cleaning"
   ]
  },
  {
   "cell_type": "code",
   "execution_count": 14,
   "metadata": {},
   "outputs": [],
   "source": [
    "# select HVGs and do PCA\n",
    "n_var_max = 2000  # max total features to select\n",
    "sc.pp.highly_variable_genes(adata, n_top_genes=n_var_max, subset=True)\n",
    "sc.pp.pca(adata, use_highly_variable=True)"
   ]
  },
  {
   "cell_type": "code",
   "execution_count": 15,
   "metadata": {},
   "outputs": [
    {
     "data": {
      "text/plain": [
       "AnnData object with n_obs × n_vars = 3200 × 2000\n",
       "    obs: 'perturbation', 'grna_lenient', 'target', 'moi', 'cell_line', 'celltype', 'perturbation_type', 'cancer', 'disease', 'guide_id', 'ncounts', 'ngenes', 'percent_mito', 'percent_ribo', 'nperts', 'n_counts'\n",
       "    var: 'gene_id', 'mt', 'ribo', 'ncounts', 'ncells', 'n_cells', 'highly_variable', 'means', 'dispersions', 'dispersions_norm'\n",
       "    uns: 'log1p', 'hvg', 'pca'\n",
       "    obsm: 'X_pca'\n",
       "    varm: 'PCs'"
      ]
     },
     "execution_count": 15,
     "metadata": {},
     "output_type": "execute_result"
    }
   ],
   "source": [
    "adata"
   ]
  },
  {
   "cell_type": "code",
   "execution_count": 16,
   "metadata": {},
   "outputs": [],
   "source": [
    "adata.write(\"distances_example_data.h5ad\")"
   ]
  },
  {
   "cell_type": "code",
   "execution_count": null,
   "metadata": {},
   "outputs": [],
   "source": []
  }
 ],
 "metadata": {
  "kernelspec": {
   "display_name": "pertpy_dev",
   "language": "python",
   "name": "python3"
  },
  "language_info": {
   "codemirror_mode": {
    "name": "ipython",
    "version": 3
   },
   "file_extension": ".py",
   "mimetype": "text/x-python",
   "name": "python",
   "nbconvert_exporter": "python",
   "pygments_lexer": "ipython3",
   "version": "3.8.16"
  },
  "orig_nbformat": 4
 },
 "nbformat": 4,
 "nbformat_minor": 2
}
