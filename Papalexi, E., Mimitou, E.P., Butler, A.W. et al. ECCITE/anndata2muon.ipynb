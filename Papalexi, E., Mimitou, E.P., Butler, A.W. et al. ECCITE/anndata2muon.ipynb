{
 "cells": [
  {
   "cell_type": "code",
   "execution_count": null,
   "id": "58b77e0d",
   "metadata": {
    "scrolled": true
   },
   "outputs": [],
   "source": [
    "import scanpy as sc\n",
    "from muon import MuData"
   ]
  },
  {
   "cell_type": "code",
   "execution_count": null,
   "id": "5656781c",
   "metadata": {
    "scrolled": false
   },
   "outputs": [],
   "source": [
    "# import anndata objects\n",
    "rna = sc.read_h5ad('eccite_sceasy_RNA.h5ad')\n",
    "adt = sc.read_h5ad('eccite_sceasy_ADT.h5ad')\n",
    "gdo = sc.read_h5ad('eccite_sceasy_GDO.h5ad')\n",
    "hto = sc.read_h5ad('eccite_sceasy_HTO.h5ad')"
   ]
  },
  {
   "cell_type": "code",
   "execution_count": null,
   "id": "22974bde",
   "metadata": {},
   "outputs": [],
   "source": [
    "for ann in [rna, adt, gdo, hto]:\n",
    "    all_column_names = ann.obs_keys()\n",
    "    all_column_types = ann.obs.dtypes.to_dict()\n",
    "    # remove duplicate columns \n",
    "    ann.obs = ann.obs.T.drop_duplicates().T\n",
    "    all_column_names_new = ann.obs_keys()\n",
    "    for duplicate_column_name in list(set(all_column_names) - set(all_column_names_new)):\n",
    "        all_column_types.pop(duplicate_column_name)\n",
    "    # revert columns' types\n",
    "    ann.obs = ann.obs.astype(all_column_types)\n",
    "\n",
    "    # rename observations\n",
    "    ann.obs = ann.obs.rename(columns={'gene':'gene_target', 'crispr':'perturbation'})\n",
    "\n",
    "    # remove redundant NT column\n",
    "    ann.obs.drop('NT', axis = 1, inplace=True)"
   ]
  },
  {
   "cell_type": "code",
   "execution_count": null,
   "id": "f732e89b",
   "metadata": {},
   "outputs": [],
   "source": [
    "# create mu data object\n",
    "mueasy = MuData({'rna': rna, 'adt': adt, 'hto':hto, 'gdo':gdo})\n",
    "mueasy"
   ]
  },
  {
   "cell_type": "code",
   "execution_count": null,
   "id": "324ab088",
   "metadata": {},
   "outputs": [],
   "source": [
    "# save mu data \n",
    "mueasy.write('eccite.h5mu')"
   ]
  }
 ],
 "metadata": {
  "interpreter": {
   "hash": "2eba13af0803eb9e860329ab8d1c7035695cf806e36c019cf6c45960f8a9dcf9"
  },
  "kernelspec": {
   "display_name": "Python 3.9.12 ('.venv': poetry)",
   "language": "python",
   "name": "python3"
  },
  "language_info": {
   "codemirror_mode": {
    "name": "ipython",
    "version": 3
   },
   "file_extension": ".py",
   "mimetype": "text/x-python",
   "name": "python",
   "nbconvert_exporter": "python",
   "pygments_lexer": "ipython3",
   "version": "3.9.12"
  }
 },
 "nbformat": 4,
 "nbformat_minor": 5
}
