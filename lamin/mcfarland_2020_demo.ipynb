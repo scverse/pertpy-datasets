{
 "cells": [
  {
   "cell_type": "markdown",
   "metadata": {},
   "source": [
    "# Curate perturbation dataset with `PerturbationCurator`"
   ]
  },
  {
   "cell_type": "markdown",
   "metadata": {},
   "source": [
    "Here we use pertpy's `PerturbationCurator` to ensure that a perturbatin dataset conforms to both, `CELLxGENE` (schema 5.1.0) and pertpy's defined criteria.\n",
    "More specifically, the `PerturbationCurator` builds upon [cellxgene-lamin](https://github.com/laminlabs/cellxgene-lamin) and extends it by further requiring `cell_line` and `X_treatments` columns for the perturbations.\n",
    "\n",
    "This guide demonstrates how to curate a complex, real world perturbation dataset [McFarland et al. 2020](https://www.nature.com/articles/s41467-020-17440-w) using `PerturbationCurator`. Please have a look at [lamindb's perturbation guide](https://docs.lamin.ai/perturbation) for more details."
   ]
  },
  {
   "cell_type": "code",
   "execution_count": 1,
   "metadata": {},
   "outputs": [],
   "source": [
    "#!pip install pertpy[validator]"
   ]
  },
  {
   "cell_type": "code",
   "execution_count": 2,
   "metadata": {},
   "outputs": [
    {
     "name": "stdout",
     "output_type": "stream",
     "text": [
      "\u001b[92m→\u001b[0m connected lamindb: zethson/test-perturbation\n"
     ]
    }
   ],
   "source": [
    "# Using a local instance here but in practice, we use `laminlabs/pertpy-datasets`\n",
    "!lamin init --storage ./test-perturbation --schema bionty,wetlab,findrefs"
   ]
  },
  {
   "cell_type": "code",
   "execution_count": 3,
   "metadata": {},
   "outputs": [
    {
     "name": "stdout",
     "output_type": "stream",
     "text": [
      "\u001b[92m→\u001b[0m connected lamindb: zethson/test-perturbation\n"
     ]
    }
   ],
   "source": [
    "import lamindb as ln\n",
    "import bionty as bt\n",
    "import wetlab as wl\n",
    "import findrefs as fr\n",
    "import pertpy as pt\n",
    "import scanpy as sc"
   ]
  },
  {
   "cell_type": "code",
   "execution_count": 4,
   "metadata": {},
   "outputs": [],
   "source": [
    "# ln.track(\"HIRTYxL3aZc70000\")"
   ]
  },
  {
   "cell_type": "code",
   "execution_count": 5,
   "metadata": {},
   "outputs": [
    {
     "name": "stdout",
     "output_type": "stream",
     "text": [
      "\u001b[93m!\u001b[0m run input wasn't tracked, call `ln.track()` and re-run\n"
     ]
    },
    {
     "data": {
      "text/html": [
       "<div>\n",
       "<style scoped>\n",
       "    .dataframe tbody tr th:only-of-type {\n",
       "        vertical-align: middle;\n",
       "    }\n",
       "\n",
       "    .dataframe tbody tr th {\n",
       "        vertical-align: top;\n",
       "    }\n",
       "\n",
       "    .dataframe thead th {\n",
       "        text-align: right;\n",
       "    }\n",
       "</style>\n",
       "<table border=\"1\" class=\"dataframe\">\n",
       "  <thead>\n",
       "    <tr style=\"text-align: right;\">\n",
       "      <th></th>\n",
       "      <th>depmap_id</th>\n",
       "      <th>cancer</th>\n",
       "      <th>cell_det_rate</th>\n",
       "      <th>cell_line</th>\n",
       "      <th>cell_quality</th>\n",
       "      <th>channel</th>\n",
       "      <th>disease</th>\n",
       "      <th>dose_unit</th>\n",
       "      <th>dose_value</th>\n",
       "      <th>doublet_CL1</th>\n",
       "      <th>...</th>\n",
       "      <th>singlet_z_margin</th>\n",
       "      <th>time</th>\n",
       "      <th>tissue_type</th>\n",
       "      <th>tot_reads</th>\n",
       "      <th>nperts</th>\n",
       "      <th>ngenes</th>\n",
       "      <th>ncounts</th>\n",
       "      <th>percent_mito</th>\n",
       "      <th>percent_ribo</th>\n",
       "      <th>chembl-ID</th>\n",
       "    </tr>\n",
       "  </thead>\n",
       "  <tbody>\n",
       "    <tr>\n",
       "      <th>AACTGGTGTCTCTCTG</th>\n",
       "      <td>ACH-000390</td>\n",
       "      <td>True</td>\n",
       "      <td>0.093159</td>\n",
       "      <td>LUDLU-1</td>\n",
       "      <td>normal</td>\n",
       "      <td>nan</td>\n",
       "      <td>lung cancer</td>\n",
       "      <td>µM</td>\n",
       "      <td>0.1</td>\n",
       "      <td>LUDLU1_LUNG</td>\n",
       "      <td>...</td>\n",
       "      <td>12.351139</td>\n",
       "      <td>24</td>\n",
       "      <td>cell_line</td>\n",
       "      <td>787</td>\n",
       "      <td>1</td>\n",
       "      <td>3045</td>\n",
       "      <td>12895.0</td>\n",
       "      <td>3.202792</td>\n",
       "      <td>24.955409</td>\n",
       "      <td>CHEMBL2103875</td>\n",
       "    </tr>\n",
       "    <tr>\n",
       "      <th>ATAGGCTCAGATTTCG</th>\n",
       "      <td>ACH-000444</td>\n",
       "      <td>True</td>\n",
       "      <td>0.145728</td>\n",
       "      <td>LU99</td>\n",
       "      <td>normal</td>\n",
       "      <td>2</td>\n",
       "      <td>lung cancer</td>\n",
       "      <td>µM</td>\n",
       "      <td>0.5</td>\n",
       "      <td>LU99_LUNG</td>\n",
       "      <td>...</td>\n",
       "      <td>8.164565</td>\n",
       "      <td>24</td>\n",
       "      <td>cell_line</td>\n",
       "      <td>1597</td>\n",
       "      <td>1</td>\n",
       "      <td>4763</td>\n",
       "      <td>23161.0</td>\n",
       "      <td>7.473771</td>\n",
       "      <td>18.051898</td>\n",
       "      <td>CHEMBL1173655</td>\n",
       "    </tr>\n",
       "    <tr>\n",
       "      <th>GCCAAATCAAGCCGTC</th>\n",
       "      <td>ACH-000396</td>\n",
       "      <td>True</td>\n",
       "      <td>0.117330</td>\n",
       "      <td>J82</td>\n",
       "      <td>normal</td>\n",
       "      <td>nan</td>\n",
       "      <td>urinary bladder carcinoma</td>\n",
       "      <td>µM</td>\n",
       "      <td>0.1</td>\n",
       "      <td>J82_URINARY_TRACT</td>\n",
       "      <td>...</td>\n",
       "      <td>11.188513</td>\n",
       "      <td>24</td>\n",
       "      <td>cell_line</td>\n",
       "      <td>1159</td>\n",
       "      <td>1</td>\n",
       "      <td>3834</td>\n",
       "      <td>18062.0</td>\n",
       "      <td>2.762706</td>\n",
       "      <td>22.085040</td>\n",
       "      <td>CHEMBL2028663</td>\n",
       "    </tr>\n",
       "  </tbody>\n",
       "</table>\n",
       "<p>3 rows × 35 columns</p>\n",
       "</div>"
      ],
      "text/plain": [
       "                   depmap_id  cancer  cell_det_rate cell_line cell_quality  \\\n",
       "AACTGGTGTCTCTCTG  ACH-000390    True       0.093159   LUDLU-1       normal   \n",
       "ATAGGCTCAGATTTCG  ACH-000444    True       0.145728      LU99       normal   \n",
       "GCCAAATCAAGCCGTC  ACH-000396    True       0.117330       J82       normal   \n",
       "\n",
       "                 channel                    disease dose_unit  dose_value  \\\n",
       "AACTGGTGTCTCTCTG     nan                lung cancer        µM         0.1   \n",
       "ATAGGCTCAGATTTCG       2                lung cancer        µM         0.5   \n",
       "GCCAAATCAAGCCGTC     nan  urinary bladder carcinoma        µM         0.1   \n",
       "\n",
       "                        doublet_CL1  ... singlet_z_margin  time  tissue_type  \\\n",
       "AACTGGTGTCTCTCTG        LUDLU1_LUNG  ...        12.351139    24    cell_line   \n",
       "ATAGGCTCAGATTTCG          LU99_LUNG  ...         8.164565    24    cell_line   \n",
       "GCCAAATCAAGCCGTC  J82_URINARY_TRACT  ...        11.188513    24    cell_line   \n",
       "\n",
       "                  tot_reads nperts ngenes  ncounts percent_mito percent_ribo  \\\n",
       "AACTGGTGTCTCTCTG        787      1   3045  12895.0     3.202792    24.955409   \n",
       "ATAGGCTCAGATTTCG       1597      1   4763  23161.0     7.473771    18.051898   \n",
       "GCCAAATCAAGCCGTC       1159      1   3834  18062.0     2.762706    22.085040   \n",
       "\n",
       "                      chembl-ID  \n",
       "AACTGGTGTCTCTCTG  CHEMBL2103875  \n",
       "ATAGGCTCAGATTTCG  CHEMBL1173655  \n",
       "GCCAAATCAAGCCGTC  CHEMBL2028663  \n",
       "\n",
       "[3 rows x 35 columns]"
      ]
     },
     "execution_count": 5,
     "metadata": {},
     "output_type": "execute_result"
    }
   ],
   "source": [
    "adata = ln.Artifact.using(\"laminlabs/lamindata\").get(uid=\"Xk7Qaik9vBLV4PKf0001\").load()\n",
    "adata.obs.head(3)"
   ]
  },
  {
   "cell_type": "code",
   "execution_count": 6,
   "metadata": {},
   "outputs": [],
   "source": [
    "# Calculate an embedding because CELLxGENE requires one\n",
    "sc.tl.pca(adata)"
   ]
  },
  {
   "cell_type": "markdown",
   "metadata": {},
   "source": [
    "## Curator non-perturbation data"
   ]
  },
  {
   "cell_type": "code",
   "execution_count": 7,
   "metadata": {},
   "outputs": [
    {
     "name": "stdout",
     "output_type": "stream",
     "text": [
      "\u001b[92m→\u001b[0m added defaults to the AnnData object: {'assay': 'unknown', 'cell_type': 'unknown', 'development_stage': 'unknown', 'donor_id': 'unknown', 'self_reported_ethnicity': 'unknown', 'suspension_type': 'cell', 'genetic_treatments': '', 'compound_treatments': '', 'environmental_treatments': '', 'combination_treatments': ''}\n",
      "\u001b[92m✓\u001b[0m added 15 records with \u001b[3mFeature.name\u001b[0m for \u001b[3mcolumns\u001b[0m: 'assay', 'cell_type', 'development_stage', 'disease', 'donor_id', 'self_reported_ethnicity', 'sex', 'suspension_type', 'tissue_type', 'organism', 'cell_line', 'genetic_treatments', 'compound_treatments', 'environmental_treatments', 'combination_treatments'\n",
      "\u001b[92m→\u001b[0m validating metadata using registries of instance \u001b[3mtest-perturbation\u001b[0m\n",
      "\u001b[94m•\u001b[0m saving validated records of 'var_index'\n",
      "\u001b[92m✓\u001b[0m added 1869 records \u001b[1;92mfrom public\u001b[0m with \u001b[3mGene.ensembl_gene_id\u001b[0m for \u001b[3mvar_index\u001b[0m: 'ENSG00000102316', 'ENSG00000109472', 'ENSG00000080007', 'ENSG00000203926', 'ENSG00000232301', 'ENSG00000127419', 'ENSG00000266869', 'ENSG00000108960', 'ENSG00000261316', 'ENSG00000126870', 'ENSG00000121797', 'ENSG00000243927', 'ENSG00000143473', 'ENSG00000261488', 'ENSG00000115665', 'ENSG00000180613', 'ENSG00000167283', 'ENSG00000160472', 'ENSG00000273387', 'ENSG00000110768', ...\n",
      "\u001b[94m•\u001b[0m saving validated terms of 'assay'\n",
      "\u001b[94m•\u001b[0m saving validated terms of 'cell_type'\n",
      "\u001b[94m•\u001b[0m saving validated terms of 'development_stage'\n",
      "\u001b[94m•\u001b[0m saving validated terms of 'disease'\n",
      "\u001b[94m•\u001b[0m saving validated terms of 'donor_id'\n",
      "\u001b[94m•\u001b[0m saving validated terms of 'self_reported_ethnicity'\n",
      "\u001b[94m•\u001b[0m saving validated terms of 'sex'\n",
      "\u001b[92m✓\u001b[0m added 2 records \u001b[1;92mfrom public\u001b[0m with \u001b[3mPhenotype.name\u001b[0m for \u001b[3msex\u001b[0m: 'male', 'female'\n",
      "\u001b[94m•\u001b[0m saving validated terms of 'suspension_type'\n",
      "\u001b[94m•\u001b[0m saving validated terms of 'tissue_type'\n",
      "\u001b[94m•\u001b[0m saving validated terms of 'organism'\n",
      "\u001b[94m•\u001b[0m saving validated terms of 'cell_line'\n",
      "\u001b[94m•\u001b[0m saving validated terms of 'genetic_treatments'\n",
      "\u001b[94m•\u001b[0m saving validated terms of 'compound_treatments'\n",
      "\u001b[94m•\u001b[0m saving validated terms of 'environmental_treatments'\n",
      "\u001b[94m•\u001b[0m saving validated terms of 'combination_treatments'\n",
      "\u001b[94m•\u001b[0m mapping \u001b[3mvar_index\u001b[0m on \u001b[3mGene.ensembl_gene_id\u001b[0m\n",
      "\u001b[93m!\u001b[0m    \u001b[1;91m2 terms\u001b[0m are not validated: \u001b[1;91m'ENSG00000255823', 'ENSG00000272370'\u001b[0m\n",
      "→ fix typos, remove non-existent values, or save terms via \u001b[1;91m.add_new_from_var_index()\u001b[0m\n",
      "\u001b[94m•\u001b[0m mapping \u001b[3massay\u001b[0m on \u001b[3mExperimentalFactor.name\u001b[0m\n",
      "\u001b[93m!\u001b[0m    \u001b[1;91m1 terms\u001b[0m is not validated: \u001b[1;91m'unknown'\u001b[0m\n",
      "→ fix typos, remove non-existent values, or save terms via \u001b[1;91m.add_new_from('assay')\u001b[0m\n",
      "\u001b[94m•\u001b[0m mapping \u001b[3mcell_type\u001b[0m on \u001b[3mCellType.name\u001b[0m\n",
      "\u001b[93m!\u001b[0m    \u001b[1;91m1 terms\u001b[0m is not validated: \u001b[1;91m'unknown'\u001b[0m\n",
      "→ fix typos, remove non-existent values, or save terms via \u001b[1;91m.add_new_from('cell_type')\u001b[0m\n",
      "\u001b[94m•\u001b[0m mapping \u001b[3mdevelopment_stage\u001b[0m on \u001b[3mDevelopmentalStage.name\u001b[0m\n",
      "\u001b[93m!\u001b[0m    \u001b[1;91m1 terms\u001b[0m is not validated: \u001b[1;91m'unknown'\u001b[0m\n",
      "→ fix typos, remove non-existent values, or save terms via \u001b[1;91m.add_new_from('development_stage')\u001b[0m\n",
      "\u001b[92m✓\u001b[0m disease is validated against \u001b[3mDisease.name\u001b[0m\n",
      "\u001b[94m•\u001b[0m mapping \u001b[3mdonor_id\u001b[0m on \u001b[3mULabel.name\u001b[0m\n",
      "\u001b[93m!\u001b[0m    \u001b[1;91m1 terms\u001b[0m is not validated: \u001b[1;91m'unknown'\u001b[0m\n",
      "→ fix typos, remove non-existent values, or save terms via \u001b[1;91m.add_new_from('donor_id')\u001b[0m\n",
      "\u001b[94m•\u001b[0m mapping \u001b[3mself_reported_ethnicity\u001b[0m on \u001b[3mEthnicity.name\u001b[0m\n",
      "\u001b[93m!\u001b[0m    \u001b[1;91m1 terms\u001b[0m is not validated: \u001b[1;91m'unknown'\u001b[0m\n",
      "→ fix typos, remove non-existent values, or save terms via \u001b[1;91m.add_new_from('self_reported_ethnicity')\u001b[0m\n",
      "\u001b[94m•\u001b[0m mapping \u001b[3msex\u001b[0m on \u001b[3mPhenotype.name\u001b[0m\n",
      "\u001b[93m!\u001b[0m    \u001b[1;91m1 terms\u001b[0m is not validated: \u001b[1;91m'Unknown'\u001b[0m\n",
      "→ fix typos, remove non-existent values, or save terms via \u001b[1;91m.add_new_from('sex')\u001b[0m\n",
      "\u001b[94m•\u001b[0m mapping \u001b[3msuspension_type\u001b[0m on \u001b[3mULabel.name\u001b[0m\n",
      "\u001b[93m!\u001b[0m    \u001b[1;91m1 terms\u001b[0m is not validated: \u001b[1;91m'cell'\u001b[0m\n",
      "→ fix typos, remove non-existent values, or save terms via \u001b[1;91m.add_new_from('suspension_type')\u001b[0m\n",
      "\u001b[94m•\u001b[0m mapping \u001b[3mtissue_type\u001b[0m on \u001b[3mULabel.name\u001b[0m\n",
      "\u001b[93m!\u001b[0m    \u001b[1;91m1 terms\u001b[0m is not validated: \u001b[1;91m'cell_line'\u001b[0m\n",
      "→ fix typos, remove non-existent values, or save terms via \u001b[1;91m.add_new_from('tissue_type')\u001b[0m\n",
      "\u001b[92m✓\u001b[0m organism is validated against \u001b[3mOrganism.name\u001b[0m\n",
      "\u001b[92m✓\u001b[0m cell_line is validated against \u001b[3mCellLine.name\u001b[0m\n",
      "\u001b[92m✓\u001b[0m genetic_treatments is validated against \u001b[3mGeneticTreatment.name\u001b[0m\n",
      "\u001b[92m✓\u001b[0m compound_treatments is validated against \u001b[3mCompoundTreatment.name\u001b[0m\n",
      "\u001b[92m✓\u001b[0m environmental_treatments is validated against \u001b[3mEnvironmentalTreatment.name\u001b[0m\n",
      "\u001b[92m✓\u001b[0m combination_treatments is validated against \u001b[3mCombinationTreatment.name\u001b[0m\n"
     ]
    },
    {
     "data": {
      "text/plain": [
       "False"
      ]
     },
     "execution_count": 7,
     "metadata": {},
     "output_type": "execute_result"
    }
   ],
   "source": [
    "curator = pt.dt.PerturbationCurator(adata, using_key=\"test-perturbation\")  # Fetch all ontologies from this instance\n",
    "curator.validate()"
   ]
  },
  {
   "cell_type": "code",
   "execution_count": 8,
   "metadata": {},
   "outputs": [],
   "source": [
    "adata.obs[\"sex\"] = adata.obs[\"sex\"].replace({\"Unknown\": \"unknown\"})"
   ]
  },
  {
   "cell_type": "code",
   "execution_count": 9,
   "metadata": {},
   "outputs": [],
   "source": [
    "efo_lo = bt.ExperimentalFactor.public().lookup()"
   ]
  },
  {
   "cell_type": "code",
   "execution_count": 10,
   "metadata": {},
   "outputs": [],
   "source": [
    "adata.obs[\"assay\"] = efo_lo.single_cell_rna_sequencing.name"
   ]
  },
  {
   "cell_type": "code",
   "execution_count": 11,
   "metadata": {},
   "outputs": [],
   "source": [
    "adata = adata[:, ~adata.var_names.isin(curator.non_validated[\"var_index\"])].copy()"
   ]
  },
  {
   "cell_type": "code",
   "execution_count": 12,
   "metadata": {},
   "outputs": [
    {
     "name": "stdout",
     "output_type": "stream",
     "text": [
      "\u001b[92m→\u001b[0m validating metadata using registries of instance \u001b[3mtest-perturbation\u001b[0m\n",
      "\u001b[94m•\u001b[0m saving validated records of 'var_index'\n",
      "\u001b[94m•\u001b[0m saving validated terms of 'assay'\n",
      "\u001b[94m•\u001b[0m saving validated terms of 'cell_type'\n",
      "\u001b[94m•\u001b[0m saving validated terms of 'development_stage'\n",
      "\u001b[94m•\u001b[0m saving validated terms of 'disease'\n",
      "\u001b[94m•\u001b[0m saving validated terms of 'donor_id'\n",
      "\u001b[94m•\u001b[0m saving validated terms of 'self_reported_ethnicity'\n",
      "\u001b[94m•\u001b[0m saving validated terms of 'sex'\n",
      "\u001b[94m•\u001b[0m saving validated terms of 'suspension_type'\n",
      "\u001b[94m•\u001b[0m saving validated terms of 'tissue_type'\n",
      "\u001b[94m•\u001b[0m saving validated terms of 'organism'\n",
      "\u001b[94m•\u001b[0m saving validated terms of 'cell_line'\n",
      "\u001b[94m•\u001b[0m saving validated terms of 'genetic_treatments'\n",
      "\u001b[94m•\u001b[0m saving validated terms of 'compound_treatments'\n",
      "\u001b[94m•\u001b[0m saving validated terms of 'environmental_treatments'\n",
      "\u001b[94m•\u001b[0m saving validated terms of 'combination_treatments'\n",
      "\u001b[92m✓\u001b[0m var_index is validated against \u001b[3mGene.ensembl_gene_id\u001b[0m\n",
      "\u001b[92m✓\u001b[0m assay is validated against \u001b[3mExperimentalFactor.name\u001b[0m\n",
      "\u001b[94m•\u001b[0m mapping \u001b[3mcell_type\u001b[0m on \u001b[3mCellType.name\u001b[0m\n",
      "\u001b[93m!\u001b[0m    \u001b[1;91m1 terms\u001b[0m is not validated: \u001b[1;91m'unknown'\u001b[0m\n",
      "→ fix typos, remove non-existent values, or save terms via \u001b[1;91m.add_new_from('cell_type')\u001b[0m\n",
      "\u001b[94m•\u001b[0m mapping \u001b[3mdevelopment_stage\u001b[0m on \u001b[3mDevelopmentalStage.name\u001b[0m\n",
      "\u001b[93m!\u001b[0m    \u001b[1;91m1 terms\u001b[0m is not validated: \u001b[1;91m'unknown'\u001b[0m\n",
      "→ fix typos, remove non-existent values, or save terms via \u001b[1;91m.add_new_from('development_stage')\u001b[0m\n",
      "\u001b[92m✓\u001b[0m disease is validated against \u001b[3mDisease.name\u001b[0m\n",
      "\u001b[94m•\u001b[0m mapping \u001b[3mdonor_id\u001b[0m on \u001b[3mULabel.name\u001b[0m\n",
      "\u001b[93m!\u001b[0m    \u001b[1;91m1 terms\u001b[0m is not validated: \u001b[1;91m'unknown'\u001b[0m\n",
      "→ fix typos, remove non-existent values, or save terms via \u001b[1;91m.add_new_from('donor_id')\u001b[0m\n",
      "\u001b[94m•\u001b[0m mapping \u001b[3mself_reported_ethnicity\u001b[0m on \u001b[3mEthnicity.name\u001b[0m\n",
      "\u001b[93m!\u001b[0m    \u001b[1;91m1 terms\u001b[0m is not validated: \u001b[1;91m'unknown'\u001b[0m\n",
      "→ fix typos, remove non-existent values, or save terms via \u001b[1;91m.add_new_from('self_reported_ethnicity')\u001b[0m\n",
      "\u001b[94m•\u001b[0m mapping \u001b[3msex\u001b[0m on \u001b[3mPhenotype.name\u001b[0m\n",
      "\u001b[93m!\u001b[0m    \u001b[1;91m1 terms\u001b[0m is not validated: \u001b[1;91m'unknown'\u001b[0m\n",
      "→ fix typos, remove non-existent values, or save terms via \u001b[1;91m.add_new_from('sex')\u001b[0m\n",
      "\u001b[94m•\u001b[0m mapping \u001b[3msuspension_type\u001b[0m on \u001b[3mULabel.name\u001b[0m\n",
      "\u001b[93m!\u001b[0m    \u001b[1;91m1 terms\u001b[0m is not validated: \u001b[1;91m'cell'\u001b[0m\n",
      "→ fix typos, remove non-existent values, or save terms via \u001b[1;91m.add_new_from('suspension_type')\u001b[0m\n",
      "\u001b[94m•\u001b[0m mapping \u001b[3mtissue_type\u001b[0m on \u001b[3mULabel.name\u001b[0m\n",
      "\u001b[93m!\u001b[0m    \u001b[1;91m1 terms\u001b[0m is not validated: \u001b[1;91m'cell_line'\u001b[0m\n",
      "→ fix typos, remove non-existent values, or save terms via \u001b[1;91m.add_new_from('tissue_type')\u001b[0m\n",
      "\u001b[92m✓\u001b[0m organism is validated against \u001b[3mOrganism.name\u001b[0m\n",
      "\u001b[92m✓\u001b[0m cell_line is validated against \u001b[3mCellLine.name\u001b[0m\n",
      "\u001b[92m✓\u001b[0m genetic_treatments is validated against \u001b[3mGeneticTreatment.name\u001b[0m\n",
      "\u001b[92m✓\u001b[0m compound_treatments is validated against \u001b[3mCompoundTreatment.name\u001b[0m\n",
      "\u001b[92m✓\u001b[0m environmental_treatments is validated against \u001b[3mEnvironmentalTreatment.name\u001b[0m\n",
      "\u001b[92m✓\u001b[0m combination_treatments is validated against \u001b[3mCombinationTreatment.name\u001b[0m\n"
     ]
    },
    {
     "data": {
      "text/plain": [
       "False"
      ]
     },
     "execution_count": 12,
     "metadata": {},
     "output_type": "execute_result"
    }
   ],
   "source": [
    "# Need to recreate Curator object because we are using a new object\n",
    "curator = pt.dt.PerturbationCurator(adata, using_key=\"test-perturbation\")\n",
    "curator.validate()"
   ]
  },
  {
   "cell_type": "code",
   "execution_count": 13,
   "metadata": {},
   "outputs": [
    {
     "name": "stdout",
     "output_type": "stream",
     "text": [
      "\u001b[94m•\u001b[0m saving validated records of 'var_index'\n",
      "\u001b[94m•\u001b[0m saving validated terms of 'assay'\n",
      "\u001b[94m•\u001b[0m saving validated terms of 'cell_type'\n",
      "\u001b[92m✓\u001b[0m added 1 record with \u001b[3mCellType.name\u001b[0m for \u001b[3mcell_type\u001b[0m: 'unknown'\n",
      "\u001b[94m•\u001b[0m saving validated terms of 'development_stage'\n",
      "\u001b[92m✓\u001b[0m added 1 record with \u001b[3mDevelopmentalStage.name\u001b[0m for \u001b[3mdevelopment_stage\u001b[0m: 'unknown'\n",
      "\u001b[94m•\u001b[0m saving validated terms of 'disease'\n",
      "\u001b[94m•\u001b[0m saving validated terms of 'donor_id'\n",
      "\u001b[92m✓\u001b[0m added 1 record with \u001b[3mULabel.name\u001b[0m for \u001b[3mdonor_id\u001b[0m: 'unknown'\n",
      "\u001b[94m•\u001b[0m saving validated terms of 'self_reported_ethnicity'\n",
      "\u001b[92m✓\u001b[0m added 1 record with \u001b[3mEthnicity.name\u001b[0m for \u001b[3mself_reported_ethnicity\u001b[0m: 'unknown'\n",
      "\u001b[94m•\u001b[0m saving validated terms of 'sex'\n",
      "\u001b[92m✓\u001b[0m added 1 record with \u001b[3mPhenotype.name\u001b[0m for \u001b[3msex\u001b[0m: 'unknown'\n",
      "\u001b[94m•\u001b[0m saving validated terms of 'suspension_type'\n",
      "\u001b[92m✓\u001b[0m added 1 record with \u001b[3mULabel.name\u001b[0m for \u001b[3msuspension_type\u001b[0m: 'cell'\n",
      "\u001b[94m•\u001b[0m saving validated terms of 'tissue_type'\n",
      "\u001b[92m✓\u001b[0m added 1 record with \u001b[3mULabel.name\u001b[0m for \u001b[3mtissue_type\u001b[0m: 'cell_line'\n",
      "\u001b[94m•\u001b[0m saving validated terms of 'organism'\n",
      "\u001b[94m•\u001b[0m saving validated terms of 'cell_line'\n",
      "\u001b[94m•\u001b[0m saving validated terms of 'genetic_treatments'\n",
      "\u001b[94m•\u001b[0m saving validated terms of 'compound_treatments'\n",
      "\u001b[94m•\u001b[0m saving validated terms of 'environmental_treatments'\n",
      "\u001b[94m•\u001b[0m saving validated terms of 'combination_treatments'\n"
     ]
    }
   ],
   "source": [
    "curator.add_new_from(\"all\")"
   ]
  },
  {
   "cell_type": "code",
   "execution_count": 14,
   "metadata": {},
   "outputs": [
    {
     "name": "stdout",
     "output_type": "stream",
     "text": [
      "\u001b[92m→\u001b[0m validating metadata using registries of instance \u001b[3mtest-perturbation\u001b[0m\n",
      "\u001b[94m•\u001b[0m saving validated records of 'var_index'\n",
      "\u001b[94m•\u001b[0m saving validated terms of 'assay'\n",
      "\u001b[94m•\u001b[0m saving validated terms of 'cell_type'\n",
      "\u001b[94m•\u001b[0m saving validated terms of 'development_stage'\n",
      "\u001b[94m•\u001b[0m saving validated terms of 'disease'\n",
      "\u001b[94m•\u001b[0m saving validated terms of 'donor_id'\n",
      "\u001b[94m•\u001b[0m saving validated terms of 'self_reported_ethnicity'\n",
      "\u001b[94m•\u001b[0m saving validated terms of 'sex'\n",
      "\u001b[94m•\u001b[0m saving validated terms of 'suspension_type'\n",
      "\u001b[94m•\u001b[0m saving validated terms of 'tissue_type'\n",
      "\u001b[94m•\u001b[0m saving validated terms of 'organism'\n",
      "\u001b[94m•\u001b[0m saving validated terms of 'cell_line'\n",
      "\u001b[94m•\u001b[0m saving validated terms of 'genetic_treatments'\n",
      "\u001b[94m•\u001b[0m saving validated terms of 'compound_treatments'\n",
      "\u001b[94m•\u001b[0m saving validated terms of 'environmental_treatments'\n",
      "\u001b[94m•\u001b[0m saving validated terms of 'combination_treatments'\n",
      "\u001b[92m✓\u001b[0m var_index is validated against \u001b[3mGene.ensembl_gene_id\u001b[0m\n",
      "\u001b[92m✓\u001b[0m assay is validated against \u001b[3mExperimentalFactor.name\u001b[0m\n",
      "\u001b[92m✓\u001b[0m cell_type is validated against \u001b[3mCellType.name\u001b[0m\n",
      "\u001b[92m✓\u001b[0m development_stage is validated against \u001b[3mDevelopmentalStage.name\u001b[0m\n",
      "\u001b[92m✓\u001b[0m disease is validated against \u001b[3mDisease.name\u001b[0m\n",
      "\u001b[92m✓\u001b[0m donor_id is validated against \u001b[3mULabel.name\u001b[0m\n",
      "\u001b[92m✓\u001b[0m self_reported_ethnicity is validated against \u001b[3mEthnicity.name\u001b[0m\n",
      "\u001b[92m✓\u001b[0m sex is validated against \u001b[3mPhenotype.name\u001b[0m\n",
      "\u001b[92m✓\u001b[0m suspension_type is validated against \u001b[3mULabel.name\u001b[0m\n",
      "\u001b[92m✓\u001b[0m tissue_type is validated against \u001b[3mULabel.name\u001b[0m\n",
      "\u001b[92m✓\u001b[0m organism is validated against \u001b[3mOrganism.name\u001b[0m\n",
      "\u001b[92m✓\u001b[0m cell_line is validated against \u001b[3mCellLine.name\u001b[0m\n",
      "\u001b[92m✓\u001b[0m genetic_treatments is validated against \u001b[3mGeneticTreatment.name\u001b[0m\n",
      "\u001b[92m✓\u001b[0m compound_treatments is validated against \u001b[3mCompoundTreatment.name\u001b[0m\n",
      "\u001b[92m✓\u001b[0m environmental_treatments is validated against \u001b[3mEnvironmentalTreatment.name\u001b[0m\n",
      "\u001b[92m✓\u001b[0m combination_treatments is validated against \u001b[3mCombinationTreatment.name\u001b[0m\n"
     ]
    },
    {
     "data": {
      "text/plain": [
       "True"
      ]
     },
     "execution_count": 14,
     "metadata": {},
     "output_type": "execute_result"
    }
   ],
   "source": [
    "curator.validate()"
   ]
  },
  {
   "cell_type": "markdown",
   "metadata": {},
   "source": [
    "All treatment columns validate but that's only because they're all empty."
   ]
  },
  {
   "cell_type": "markdown",
   "metadata": {},
   "source": [
    "## Curate perturbations"
   ]
  },
  {
   "cell_type": "code",
   "execution_count": 15,
   "metadata": {},
   "outputs": [],
   "source": [
    "# Move \n",
    "adata.obs['genetic_treatments'] = adata.obs['perturbation'].where(adata.obs['perturbation_type'] == 'CRISPR', None)\n",
    "adata.obs['compound_treatments'] = adata.obs['perturbation'].where(adata.obs['perturbation_type'] == 'drug', None)"
   ]
  },
  {
   "cell_type": "markdown",
   "metadata": {},
   "source": [
    "### Genetic treatments"
   ]
  },
  {
   "cell_type": "code",
   "execution_count": 16,
   "metadata": {},
   "outputs": [
    {
     "data": {
      "text/plain": [
       "[nan, 'sggpx4-2', 'sglacz', 'sggpx4-1', 'sgor2j2']"
      ]
     },
     "execution_count": 16,
     "metadata": {},
     "output_type": "execute_result"
    }
   ],
   "source": [
    "list(adata.obs[\"genetic_treatments\"].unique())"
   ]
  },
  {
   "cell_type": "code",
   "execution_count": 17,
   "metadata": {},
   "outputs": [
    {
     "name": "stdout",
     "output_type": "stream",
     "text": [
      "\u001b[92m✓\u001b[0m created \u001b[1;95m1 Gene record from Bionty\u001b[0m matching \u001b[3msymbol\u001b[0m: \u001b[1;95m'GPX4'\u001b[0m\n",
      "\u001b[93m!\u001b[0m record with similar name exists! did you mean to load it?\n"
     ]
    },
    {
     "data": {
      "text/html": [
       "<div>\n",
       "<style scoped>\n",
       "    .dataframe tbody tr th:only-of-type {\n",
       "        vertical-align: middle;\n",
       "    }\n",
       "\n",
       "    .dataframe tbody tr th {\n",
       "        vertical-align: top;\n",
       "    }\n",
       "\n",
       "    .dataframe thead th {\n",
       "        text-align: right;\n",
       "    }\n",
       "</style>\n",
       "<table border=\"1\" class=\"dataframe\">\n",
       "  <thead>\n",
       "    <tr style=\"text-align: right;\">\n",
       "      <th></th>\n",
       "      <th>uid</th>\n",
       "      <th>name</th>\n",
       "      <th>system</th>\n",
       "      <th>sequence</th>\n",
       "      <th>on_target_score</th>\n",
       "      <th>off_target_score</th>\n",
       "      <th>run_id</th>\n",
       "      <th>created_at</th>\n",
       "      <th>created_by_id</th>\n",
       "    </tr>\n",
       "    <tr>\n",
       "      <th>id</th>\n",
       "      <th></th>\n",
       "      <th></th>\n",
       "      <th></th>\n",
       "      <th></th>\n",
       "      <th></th>\n",
       "      <th></th>\n",
       "      <th></th>\n",
       "      <th></th>\n",
       "      <th></th>\n",
       "    </tr>\n",
       "  </thead>\n",
       "  <tbody>\n",
       "    <tr>\n",
       "      <th>1</th>\n",
       "      <td>pD8ifwxqVKmz</td>\n",
       "      <td>sggpx4-1</td>\n",
       "      <td>CRISPR KO</td>\n",
       "      <td>None</td>\n",
       "      <td>None</td>\n",
       "      <td>None</td>\n",
       "      <td>None</td>\n",
       "      <td>2024-10-25 13:21:31.828915+00:00</td>\n",
       "      <td>1</td>\n",
       "    </tr>\n",
       "  </tbody>\n",
       "</table>\n",
       "</div>"
      ],
      "text/plain": [
       "             uid      name     system sequence on_target_score  \\\n",
       "id                                                               \n",
       "1   pD8ifwxqVKmz  sggpx4-1  CRISPR KO     None            None   \n",
       "\n",
       "   off_target_score run_id                       created_at  created_by_id  \n",
       "id                                                                          \n",
       "1              None   None 2024-10-25 13:21:31.828915+00:00              1  "
      ]
     },
     "metadata": {},
     "output_type": "display_data"
    },
    {
     "name": "stdout",
     "output_type": "stream",
     "text": [
      "\u001b[92m→\u001b[0m returning existing TreatmentTarget record with same name: 'Glutathione Peroxidase 4'\n",
      "\u001b[92m✓\u001b[0m created \u001b[1;95m1 Gene record from Bionty\u001b[0m matching \u001b[3msynonyms\u001b[0m: \u001b[1;95m'or2j2'\u001b[0m\n",
      "\u001b[93m!\u001b[0m ambiguous validation in Bionty for 1 record: 'OR2J2'\n"
     ]
    }
   ],
   "source": [
    "treatments = [\n",
    "    (\"sggpx4-1\", \"GPX4\", \"Glutathione Peroxidase 4\"),\n",
    "    (\"sggpx4-2\", \"GPX4\", \"Glutathione Peroxidase 4\"),\n",
    "    (\"sgor2j2\", \"or2j2\", \"Olfactory receptor family 2 subfamily J member 2\"),\n",
    "    (\"sglacz\", \"lacz\", \"beta-galactosidase control\"),  # Control from E. coli\n",
    "]\n",
    "organism = bt.Organism.lookup().human\n",
    "\n",
    "genetic_treatments = []\n",
    "for name, symbol, target_name in treatments:\n",
    "    treatment = wl.GeneticTreatment(system=\"CRISPR KO\", name=name).save()\n",
    "    if symbol != \"lacz\":\n",
    "        gene_result = bt.Gene.from_source(symbol=symbol, organism=organism)\n",
    "        gene = gene_result[0] if isinstance(gene_result, list) else gene_result\n",
    "        gene = gene.save()\n",
    "    else:\n",
    "        gene = bt.Gene(symbol=symbol, organism=organism).save()\n",
    "    target = wl.TreatmentTarget(name=target_name).save()\n",
    "    target.genes.add(gene)\n",
    "    treatment.targets.add(target)\n",
    "    genetic_treatments.append(treatment)"
   ]
  },
  {
   "cell_type": "code",
   "execution_count": 18,
   "metadata": {},
   "outputs": [
    {
     "name": "stdout",
     "output_type": "stream",
     "text": [
      "\u001b[92m→\u001b[0m validating metadata using registries of instance \u001b[3mtest-perturbation\u001b[0m\n",
      "\u001b[94m•\u001b[0m saving validated records of 'var_index'\n",
      "\u001b[94m•\u001b[0m saving validated terms of 'assay'\n",
      "\u001b[94m•\u001b[0m saving validated terms of 'cell_type'\n",
      "\u001b[94m•\u001b[0m saving validated terms of 'development_stage'\n",
      "\u001b[94m•\u001b[0m saving validated terms of 'disease'\n",
      "\u001b[94m•\u001b[0m saving validated terms of 'donor_id'\n",
      "\u001b[94m•\u001b[0m saving validated terms of 'self_reported_ethnicity'\n",
      "\u001b[94m•\u001b[0m saving validated terms of 'sex'\n",
      "\u001b[94m•\u001b[0m saving validated terms of 'suspension_type'\n",
      "\u001b[94m•\u001b[0m saving validated terms of 'tissue_type'\n",
      "\u001b[94m•\u001b[0m saving validated terms of 'organism'\n",
      "\u001b[94m•\u001b[0m saving validated terms of 'cell_line'\n",
      "\u001b[94m•\u001b[0m saving validated terms of 'genetic_treatments'\n",
      "\u001b[94m•\u001b[0m saving validated terms of 'compound_treatments'\n",
      "\u001b[94m•\u001b[0m saving validated terms of 'environmental_treatments'\n",
      "\u001b[94m•\u001b[0m saving validated terms of 'combination_treatments'\n",
      "\u001b[92m✓\u001b[0m var_index is validated against \u001b[3mGene.ensembl_gene_id\u001b[0m\n",
      "\u001b[92m✓\u001b[0m assay is validated against \u001b[3mExperimentalFactor.name\u001b[0m\n",
      "\u001b[92m✓\u001b[0m cell_type is validated against \u001b[3mCellType.name\u001b[0m\n",
      "\u001b[92m✓\u001b[0m development_stage is validated against \u001b[3mDevelopmentalStage.name\u001b[0m\n",
      "\u001b[92m✓\u001b[0m disease is validated against \u001b[3mDisease.name\u001b[0m\n",
      "\u001b[92m✓\u001b[0m donor_id is validated against \u001b[3mULabel.name\u001b[0m\n",
      "\u001b[92m✓\u001b[0m self_reported_ethnicity is validated against \u001b[3mEthnicity.name\u001b[0m\n",
      "\u001b[92m✓\u001b[0m sex is validated against \u001b[3mPhenotype.name\u001b[0m\n",
      "\u001b[92m✓\u001b[0m suspension_type is validated against \u001b[3mULabel.name\u001b[0m\n",
      "\u001b[92m✓\u001b[0m tissue_type is validated against \u001b[3mULabel.name\u001b[0m\n",
      "\u001b[92m✓\u001b[0m organism is validated against \u001b[3mOrganism.name\u001b[0m\n",
      "\u001b[92m✓\u001b[0m cell_line is validated against \u001b[3mCellLine.name\u001b[0m\n",
      "\u001b[92m✓\u001b[0m genetic_treatments is validated against \u001b[3mGeneticTreatment.name\u001b[0m\n",
      "\u001b[94m•\u001b[0m mapping \u001b[3mcompound_treatments\u001b[0m on \u001b[3mCompoundTreatment.name\u001b[0m\n",
      "\u001b[93m!\u001b[0m    \u001b[1;91m14 terms\u001b[0m are not validated: \u001b[1;91m'trametinib', 'afatinib', 'dabrafenib', 'gemcitabine', 'navitoclax', 'bortezomib', 'brd3379', 'JQ1', 'azd5591', 'control', ...\u001b[0m\n",
      "→ fix typos, remove non-existent values, or save terms via \u001b[1;91m.add_new_from('compound_treatments')\u001b[0m\n",
      "\u001b[92m✓\u001b[0m environmental_treatments is validated against \u001b[3mEnvironmentalTreatment.name\u001b[0m\n",
      "\u001b[92m✓\u001b[0m combination_treatments is validated against \u001b[3mCombinationTreatment.name\u001b[0m\n"
     ]
    },
    {
     "data": {
      "text/plain": [
       "False"
      ]
     },
     "execution_count": 18,
     "metadata": {},
     "output_type": "execute_result"
    }
   ],
   "source": [
    "curator.validate()"
   ]
  },
  {
   "cell_type": "markdown",
   "metadata": {},
   "source": [
    "### Compounds"
   ]
  },
  {
   "cell_type": "code",
   "execution_count": 19,
   "metadata": {},
   "outputs": [
    {
     "name": "stdout",
     "output_type": "stream",
     "text": [
      "\u001b[92m✓\u001b[0m created \u001b[1;95m8 Compound records from Bionty\u001b[0m matching \u001b[3mname\u001b[0m: \u001b[1;95m'trametinib', 'afatinib', 'dabrafenib', 'gemcitabine', 'navitoclax', 'bortezomib', 'JQ1', 'everolimus'\u001b[0m\n",
      "\u001b[93m!\u001b[0m \u001b[1;91mdid not create\u001b[0m Compound records for \u001b[1;93m6 non-validated\u001b[0m \u001b[3mnames\u001b[0m: \u001b[1;93m'azd5591', 'brd3379', 'control', 'idasanutlin', 'prexasertib', 'taselisib'\u001b[0m\n"
     ]
    }
   ],
   "source": [
    "compounds = wl.Compound.from_values(adata.obs[\"compound_treatments\"], field=\"name\")"
   ]
  },
  {
   "cell_type": "code",
   "execution_count": 20,
   "metadata": {},
   "outputs": [],
   "source": [
    "# The remaining compounds are not in chebi and we create records for them\n",
    "for missing in [\n",
    "    \"azd5591\",\n",
    "    \"brd3379\",\n",
    "    \"control\",\n",
    "    \"idasanutlin\",\n",
    "    \"prexasertib\",\n",
    "    \"taselisib\",\n",
    "]:\n",
    "    compounds.append(wl.Compound(name=missing))\n",
    "ln.save(compounds)"
   ]
  },
  {
   "cell_type": "code",
   "execution_count": 21,
   "metadata": {},
   "outputs": [],
   "source": [
    "drug_metadata = adata.obs[adata.obs[\"compound_treatments\"].notna()]\n",
    "\n",
    "unique_treatments = drug_metadata[\n",
    "    [\"perturbation\", \"dose_unit\", \"dose_value\"]\n",
    "].drop_duplicates()\n",
    "\n",
    "compound_treatments = []\n",
    "for _, row in unique_treatments.iterrows():\n",
    "    compound = wl.Compound.get(name=row[\"perturbation\"])\n",
    "    treatment = wl.CompoundTreatment(\n",
    "        name=compound.name,\n",
    "        concentration=row[\"dose_value\"],\n",
    "        concentration_unit=row[\"dose_unit\"],\n",
    "    )\n",
    "    compound_treatments.append(treatment)\n",
    "\n",
    "ln.save(compound_treatments)"
   ]
  },
  {
   "cell_type": "markdown",
   "metadata": {},
   "source": [
    "## References"
   ]
  },
  {
   "cell_type": "code",
   "execution_count": 22,
   "metadata": {},
   "outputs": [],
   "source": [
    "reference = fr.Reference(\n",
    "    name=\"Multiplexed single-cell transcriptional response profiling to define cancer vulnerabilities and therapeutic mechanism of action\",\n",
    "    abbr=\"McFarland 2020\",\n",
    "    url=\"https://www.nature.com/articles/s41467-020-17440-w\",\n",
    "    doi=\"10.1038/s41467-020-17440-w\",\n",
    "    text=(\n",
    "        \"Assays to study cancer cell responses to pharmacologic or genetic perturbations are typically \"\n",
    "        \"restricted to using simple phenotypic readouts such as proliferation rate. Information-rich assays, \"\n",
    "        \"such as gene-expression profiling, have generally not permitted efficient profiling of a given \"\n",
    "        \"perturbation across multiple cellular contexts. Here, we develop MIX-Seq, a method for multiplexed \"\n",
    "        \"transcriptional profiling of post-perturbation responses across a mixture of samples with single-cell \"\n",
    "        \"resolution, using SNP-based computational demultiplexing of single-cell RNA-sequencing data. We show \"\n",
    "        \"that MIX-Seq can be used to profile responses to chemical or genetic perturbations across pools of 100 \"\n",
    "        \"or more cancer cell lines. We combine it with Cell Hashing to further multiplex additional experimental \"\n",
    "        \"conditions, such as post-treatment time points or drug doses. Analyzing the high-content readout of \"\n",
    "        \"scRNA-seq reveals both shared and context-specific transcriptional response components that can identify \"\n",
    "        \"drug mechanism of action and enable prediction of long-term cell viability from short-term transcriptional \"\n",
    "        \"responses to treatment.\"\n",
    "    )\n",
    ").save()"
   ]
  },
  {
   "cell_type": "markdown",
   "metadata": {},
   "source": [
    "## Remove unused columns"
   ]
  },
  {
   "cell_type": "code",
   "execution_count": 23,
   "metadata": {},
   "outputs": [],
   "source": [
    "adata = adata.obs.drop([\"depmap_id\", \"cancer\", \"cell_quality\", \"channel\", \"perturbation\",\n",
    "                        \"perturbation_type\", \"singlet_dev\", \"singlet_dev_z\", \"singlet_margin\", \"singlet_z_margin\",\n",
    "                        \"nperts\", \"ngenes\", \"ncounts\"], axis=1)"
   ]
  },
  {
   "cell_type": "markdown",
   "metadata": {},
   "source": [
    "## Register curated artifact"
   ]
  },
  {
   "cell_type": "code",
   "execution_count": 24,
   "metadata": {},
   "outputs": [
    {
     "name": "stdout",
     "output_type": "stream",
     "text": [
      "\u001b[92m→\u001b[0m validating metadata using registries of instance \u001b[3mtest-perturbation\u001b[0m\n",
      "\u001b[94m•\u001b[0m saving validated records of 'var_index'\n",
      "\u001b[94m•\u001b[0m saving validated terms of 'assay'\n",
      "\u001b[94m•\u001b[0m saving validated terms of 'cell_type'\n",
      "\u001b[94m•\u001b[0m saving validated terms of 'development_stage'\n",
      "\u001b[94m•\u001b[0m saving validated terms of 'disease'\n",
      "\u001b[94m•\u001b[0m saving validated terms of 'donor_id'\n",
      "\u001b[94m•\u001b[0m saving validated terms of 'self_reported_ethnicity'\n",
      "\u001b[94m•\u001b[0m saving validated terms of 'sex'\n",
      "\u001b[94m•\u001b[0m saving validated terms of 'suspension_type'\n",
      "\u001b[94m•\u001b[0m saving validated terms of 'tissue_type'\n",
      "\u001b[94m•\u001b[0m saving validated terms of 'organism'\n",
      "\u001b[94m•\u001b[0m saving validated terms of 'cell_line'\n",
      "\u001b[94m•\u001b[0m saving validated terms of 'genetic_treatments'\n",
      "\u001b[94m•\u001b[0m saving validated terms of 'compound_treatments'\n",
      "\u001b[94m•\u001b[0m saving validated terms of 'environmental_treatments'\n",
      "\u001b[94m•\u001b[0m saving validated terms of 'combination_treatments'\n",
      "\u001b[92m✓\u001b[0m var_index is validated against \u001b[3mGene.ensembl_gene_id\u001b[0m\n",
      "\u001b[92m✓\u001b[0m assay is validated against \u001b[3mExperimentalFactor.name\u001b[0m\n",
      "\u001b[92m✓\u001b[0m cell_type is validated against \u001b[3mCellType.name\u001b[0m\n",
      "\u001b[92m✓\u001b[0m development_stage is validated against \u001b[3mDevelopmentalStage.name\u001b[0m\n",
      "\u001b[92m✓\u001b[0m disease is validated against \u001b[3mDisease.name\u001b[0m\n",
      "\u001b[92m✓\u001b[0m donor_id is validated against \u001b[3mULabel.name\u001b[0m\n",
      "\u001b[92m✓\u001b[0m self_reported_ethnicity is validated against \u001b[3mEthnicity.name\u001b[0m\n",
      "\u001b[92m✓\u001b[0m sex is validated against \u001b[3mPhenotype.name\u001b[0m\n",
      "\u001b[92m✓\u001b[0m suspension_type is validated against \u001b[3mULabel.name\u001b[0m\n",
      "\u001b[92m✓\u001b[0m tissue_type is validated against \u001b[3mULabel.name\u001b[0m\n",
      "\u001b[92m✓\u001b[0m organism is validated against \u001b[3mOrganism.name\u001b[0m\n",
      "\u001b[92m✓\u001b[0m cell_line is validated against \u001b[3mCellLine.name\u001b[0m\n",
      "\u001b[92m✓\u001b[0m genetic_treatments is validated against \u001b[3mGeneticTreatment.name\u001b[0m\n",
      "\u001b[92m✓\u001b[0m compound_treatments is validated against \u001b[3mCompoundTreatment.name\u001b[0m\n",
      "\u001b[92m✓\u001b[0m environmental_treatments is validated against \u001b[3mEnvironmentalTreatment.name\u001b[0m\n",
      "\u001b[92m✓\u001b[0m combination_treatments is validated against \u001b[3mCombinationTreatment.name\u001b[0m\n",
      "\u001b[93m!\u001b[0m no run & transform got linked, call `ln.track()` & re-run\n",
      "\u001b[93m!\u001b[0m run input wasn't tracked, call `ln.track()` and re-run\n",
      "\u001b[93m!\u001b[0m    \u001b[1;93m30 unique terms\u001b[0m (66.70%) are not validated for \u001b[3mname\u001b[0m: \u001b[1;93mdepmap_id, cancer, cell_det_rate, cell_quality, channel, dose_unit, dose_value, doublet_CL1, doublet_CL2, doublet_GMM_prob, doublet_dev_imp, doublet_z_margin, hash_assignment, hash_tag, num_SNPs, perturbation, perturbation_type, singlet_ID, singlet_dev, singlet_dev_z, ...\u001b[0m\n"
     ]
    }
   ],
   "source": [
    "artifact = curator.save_artifact(description=\"McFarland AnnData\")"
   ]
  },
  {
   "cell_type": "code",
   "execution_count": 25,
   "metadata": {},
   "outputs": [],
   "source": [
    "# Set the perturbations and references\n",
    "artifact.genetic_treatments.set(genetic_treatments)\n",
    "artifact.compound_treatments.set(compound_treatments)\n",
    "artifact.references.add(reference)"
   ]
  },
  {
   "cell_type": "code",
   "execution_count": 26,
   "metadata": {},
   "outputs": [
    {
     "name": "stdout",
     "output_type": "stream",
     "text": [
      "\u001b[1;92mArtifact\u001b[0m(uid='OHFkINp7RhR0lADp0000', is_latest=True, description='McFarland AnnData', suffix='.h5ad', type='dataset', size=3498384, hash='4vuqSXa9fXfP7zZPZgA2-g', n_observations=1000, _hash_type='md5', _accessor='AnnData', visibility=1, _key_is_virtual=True, created_at=2024-10-25 13:21:41 UTC)\n",
      "  \u001b[3mProvenance\u001b[0m\n",
      "    .storage = '/home/zeth/PycharmProjects/pertpy-datasets/lamin/test-perturbation'\n",
      "    .created_by = 'zethson'\n",
      "  \u001b[3mLabels\u001b[0m\n",
      "    .organisms = 'human'\n",
      "    .cell_types = 'unknown'\n",
      "    .diseases = 'lung cancer', 'urinary bladder carcinoma', 'colorectal cancer', 'head and neck cancer', 'brain cancer', 'skin cancer', 'gastric cancer', 'esophageal cancer', 'ovarian cancer', 'malignant pancreatic neoplasm', ...\n",
      "    .cell_lines = 'LUDLU-1', 'LU99', 'J82', 'HCT-15', 'YD-10B', 'SNB75', 'SK-MEL-2', 'UM-UC-1', 'AGS', 'COLO-680N', ...\n",
      "    .phenotypes = 'male', 'female', 'unknown'\n",
      "    .experimental_factors = 'single-cell RNA sequencing'\n",
      "    .developmental_stages = 'unknown'\n",
      "    .ethnicities = 'unknown'\n",
      "    .genetic_treatments = 'sggpx4-1', 'sggpx4-2', 'sgor2j2', 'sglacz'\n",
      "    .compound_treatments = 'trametinib', 'afatinib', 'dabrafenib', 'gemcitabine', 'navitoclax', 'bortezomib', 'brd3379', 'JQ1', 'azd5591', 'control', ...\n",
      "    .references = 'Multiplexed single-cell transcriptional response profiling to define cancer vulnerabilities and therapeutic mechanism of action'\n",
      "    .ulabels = 'unknown', 'cell', 'cell_line'\n",
      "  \u001b[3mFeatures\u001b[0m\n",
      "    'assay' = 'single-cell RNA sequencing'\n",
      "    'cell_line' = '22Rv1', '253J-BV', '42-MG-BA', '639-V', '647-V', '769-P', '786-O', '8505C', 'A-375', 'A2780', ...\n",
      "    'cell_type' = 'unknown'\n",
      "    'development_stage' = 'unknown'\n",
      "    'disease' = 'bile duct cancer', 'bone cancer', 'brain cancer', 'breast cancer', 'colorectal cancer', 'esophageal cancer', 'gastric cancer', 'head and neck cancer', 'kidney cancer', 'liver cancer', ...\n",
      "    'donor_id' = 'unknown'\n",
      "    'organism' = 'human'\n",
      "    'self_reported_ethnicity' = 'unknown'\n",
      "    'sex' = 'female', 'male', 'unknown'\n",
      "    'suspension_type' = 'cell'\n",
      "    'tissue_type' = 'cell_line'\n",
      "  \u001b[3mFeature sets\u001b[0m\n",
      "    'var' = 'MAGED2', 'CPE', 'DDX43', 'SPANXA2', 'LNCPRESS1', 'TMEM175', 'None', 'MMD', 'LINC01834', 'DYNC2I1', 'CCRL2', 'MRPS6', 'KCNH1', 'TBILA', 'SLC5A7', 'GSX2', 'ATP5MG', 'TMEM190', 'GTF2H1'\n",
      "    'obs' = 'assay', 'cell_type', 'development_stage', 'disease', 'donor_id', 'self_reported_ethnicity', 'sex', 'suspension_type', 'tissue_type', 'organism', 'cell_line', 'genetic_treatments', 'compound_treatments', 'environmental_treatments', 'combination_treatments'\n",
      "\n"
     ]
    }
   ],
   "source": [
    "artifact.describe()"
   ]
  }
 ],
 "metadata": {
  "kernelspec": {
   "display_name": "pertpy",
   "language": "python",
   "name": "python3"
  },
  "language_info": {
   "codemirror_mode": {
    "name": "ipython",
    "version": 3
   },
   "file_extension": ".py",
   "mimetype": "text/x-python",
   "name": "python",
   "nbconvert_exporter": "python",
   "pygments_lexer": "ipython3",
   "version": "3.12.2"
  }
 },
 "nbformat": 4,
 "nbformat_minor": 2
}
