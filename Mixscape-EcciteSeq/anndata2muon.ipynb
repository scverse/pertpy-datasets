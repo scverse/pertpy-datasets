{
 "cells": [
  {
   "cell_type": "code",
   "execution_count": 1,
   "id": "58b77e0d",
   "metadata": {
    "scrolled": true
   },
   "outputs": [],
   "source": [
    "import scanpy as sc\n",
    "from muon import MuData"
   ]
  },
  {
   "cell_type": "code",
   "execution_count": 2,
   "id": "5656781c",
   "metadata": {
    "scrolled": false
   },
   "outputs": [],
   "source": [
    "# import anndata objects\n",
    "rnaeasy = sc.read_h5ad('eccite_sceasy_RNA.h5ad')\n",
    "adteasy = sc.read_h5ad('eccite_sceasy_ADT.h5ad')\n",
    "gdoeasy = sc.read_h5ad('eccite_sceasy_GDO.h5ad')\n",
    "htoeasy = sc.read_h5ad('eccite_sceasy_HTO.h5ad')"
   ]
  },
  {
   "cell_type": "code",
   "execution_count": 3,
   "id": "f732e89b",
   "metadata": {},
   "outputs": [
    {
     "name": "stderr",
     "output_type": "stream",
     "text": [
      "/opt/miniconda3/envs/pertpy/lib/python3.8/site-packages/mudata/_core/mudata.py:376: UserWarning: Cannot join columns with the same name because var_names are intersecting.\n",
      "  warnings.warn(\n"
     ]
    },
    {
     "data": {
      "text/html": [
       "<pre>MuData object with n_obs × n_vars = 20729 × 18776\n",
       "  4 modalities\n",
       "    rna:\t20729 x 18649\n",
       "      obs:\t&#x27;orig.ident&#x27;, &#x27;nCount_RNA&#x27;, &#x27;nFeature_RNA&#x27;, &#x27;nCount_HTO&#x27;, &#x27;nFeature_HTO&#x27;, &#x27;nCount_GDO&#x27;, &#x27;nCount_ADT&#x27;, &#x27;nFeature_ADT&#x27;, &#x27;percent.mito&#x27;, &#x27;MULTI_ID&#x27;, &#x27;MULTI_classification&#x27;, &#x27;MULTI_classification.global&#x27;, &#x27;HTO_classification&#x27;, &#x27;guide_ID&#x27;, &#x27;gene&#x27;, &#x27;NT&#x27;, &#x27;crispr&#x27;, &#x27;replicate&#x27;, &#x27;S.Score&#x27;, &#x27;G2M.Score&#x27;, &#x27;Phase&#x27;\n",
       "      var:\t&#x27;name&#x27;\n",
       "    adt:\t20729 x 4\n",
       "      obs:\t&#x27;orig.ident&#x27;, &#x27;nCount_RNA&#x27;, &#x27;nFeature_RNA&#x27;, &#x27;nCount_HTO&#x27;, &#x27;nFeature_HTO&#x27;, &#x27;nCount_GDO&#x27;, &#x27;nCount_ADT&#x27;, &#x27;nFeature_ADT&#x27;, &#x27;percent.mito&#x27;, &#x27;MULTI_ID&#x27;, &#x27;MULTI_classification&#x27;, &#x27;MULTI_classification.global&#x27;, &#x27;HTO_classification&#x27;, &#x27;guide_ID&#x27;, &#x27;gene&#x27;, &#x27;NT&#x27;, &#x27;crispr&#x27;, &#x27;replicate&#x27;, &#x27;S.Score&#x27;, &#x27;G2M.Score&#x27;, &#x27;Phase&#x27;\n",
       "      var:\t&#x27;name&#x27;\n",
       "    hto:\t20729 x 12\n",
       "      obs:\t&#x27;orig.ident&#x27;, &#x27;nCount_RNA&#x27;, &#x27;nFeature_RNA&#x27;, &#x27;nCount_HTO&#x27;, &#x27;nFeature_HTO&#x27;, &#x27;nCount_GDO&#x27;, &#x27;nCount_ADT&#x27;, &#x27;nFeature_ADT&#x27;, &#x27;percent.mito&#x27;, &#x27;MULTI_ID&#x27;, &#x27;MULTI_classification&#x27;, &#x27;MULTI_classification.global&#x27;, &#x27;HTO_classification&#x27;, &#x27;guide_ID&#x27;, &#x27;gene&#x27;, &#x27;NT&#x27;, &#x27;crispr&#x27;, &#x27;replicate&#x27;, &#x27;S.Score&#x27;, &#x27;G2M.Score&#x27;, &#x27;Phase&#x27;\n",
       "      var:\t&#x27;name&#x27;\n",
       "    gdo:\t20729 x 111\n",
       "      obs:\t&#x27;orig.ident&#x27;, &#x27;nCount_RNA&#x27;, &#x27;nFeature_RNA&#x27;, &#x27;nCount_HTO&#x27;, &#x27;nFeature_HTO&#x27;, &#x27;nCount_GDO&#x27;, &#x27;nCount_ADT&#x27;, &#x27;nFeature_ADT&#x27;, &#x27;percent.mito&#x27;, &#x27;MULTI_ID&#x27;, &#x27;MULTI_classification&#x27;, &#x27;MULTI_classification.global&#x27;, &#x27;HTO_classification&#x27;, &#x27;guide_ID&#x27;, &#x27;gene&#x27;, &#x27;NT&#x27;, &#x27;crispr&#x27;, &#x27;replicate&#x27;, &#x27;S.Score&#x27;, &#x27;G2M.Score&#x27;, &#x27;Phase&#x27;\n",
       "      var:\t&#x27;name&#x27;</pre>"
      ],
      "text/plain": [
       "MuData object with n_obs × n_vars = 20729 × 18776\n",
       "  4 modalities\n",
       "    rna:\t20729 x 18649\n",
       "      obs:\t'orig.ident', 'nCount_RNA', 'nFeature_RNA', 'nCount_HTO', 'nFeature_HTO', 'nCount_GDO', 'nCount_ADT', 'nFeature_ADT', 'percent.mito', 'MULTI_ID', 'MULTI_classification', 'MULTI_classification.global', 'HTO_classification', 'guide_ID', 'gene', 'NT', 'crispr', 'replicate', 'S.Score', 'G2M.Score', 'Phase'\n",
       "      var:\t'name'\n",
       "    adt:\t20729 x 4\n",
       "      obs:\t'orig.ident', 'nCount_RNA', 'nFeature_RNA', 'nCount_HTO', 'nFeature_HTO', 'nCount_GDO', 'nCount_ADT', 'nFeature_ADT', 'percent.mito', 'MULTI_ID', 'MULTI_classification', 'MULTI_classification.global', 'HTO_classification', 'guide_ID', 'gene', 'NT', 'crispr', 'replicate', 'S.Score', 'G2M.Score', 'Phase'\n",
       "      var:\t'name'\n",
       "    hto:\t20729 x 12\n",
       "      obs:\t'orig.ident', 'nCount_RNA', 'nFeature_RNA', 'nCount_HTO', 'nFeature_HTO', 'nCount_GDO', 'nCount_ADT', 'nFeature_ADT', 'percent.mito', 'MULTI_ID', 'MULTI_classification', 'MULTI_classification.global', 'HTO_classification', 'guide_ID', 'gene', 'NT', 'crispr', 'replicate', 'S.Score', 'G2M.Score', 'Phase'\n",
       "      var:\t'name'\n",
       "    gdo:\t20729 x 111\n",
       "      obs:\t'orig.ident', 'nCount_RNA', 'nFeature_RNA', 'nCount_HTO', 'nFeature_HTO', 'nCount_GDO', 'nCount_ADT', 'nFeature_ADT', 'percent.mito', 'MULTI_ID', 'MULTI_classification', 'MULTI_classification.global', 'HTO_classification', 'guide_ID', 'gene', 'NT', 'crispr', 'replicate', 'S.Score', 'G2M.Score', 'Phase'\n",
       "      var:\t'name'"
      ]
     },
     "execution_count": 3,
     "metadata": {},
     "output_type": "execute_result"
    }
   ],
   "source": [
    "# create mu data object\n",
    "mueasy = MuData({'rna': rnaeasy, 'adt': adteasy, 'hto':htoeasy, 'gdo':gdoeasy})\n",
    "mueasy"
   ]
  },
  {
   "cell_type": "code",
   "execution_count": 4,
   "id": "324ab088",
   "metadata": {},
   "outputs": [],
   "source": [
    "# save mu data \n",
    "mueasy.write('eccite.h5mu')"
   ]
  }
 ],
 "metadata": {
  "kernelspec": {
   "display_name": "Python 3 (ipykernel)",
   "language": "python",
   "name": "python3"
  },
  "language_info": {
   "codemirror_mode": {
    "name": "ipython",
    "version": 3
   },
   "file_extension": ".py",
   "mimetype": "text/x-python",
   "name": "python",
   "nbconvert_exporter": "python",
   "pygments_lexer": "ipython3",
   "version": "3.8.12"
  }
 },
 "nbformat": 4,
 "nbformat_minor": 5
}
