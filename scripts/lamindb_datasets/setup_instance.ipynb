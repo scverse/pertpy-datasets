{
 "cells": [
  {
   "cell_type": "markdown",
   "metadata": {},
   "source": [
    "# Setup pertpy-datasets"
   ]
  },
  {
   "cell_type": "code",
   "execution_count": 1,
   "metadata": {},
   "outputs": [
    {
     "name": "stdout",
     "output_type": "stream",
     "text": [
      "\u001b[92m→\u001b[0m connected lamindb: laminlabs/pertpy-datasets\n"
     ]
    }
   ],
   "source": [
    "!lamin load laminlabs/pertpy-datasets"
   ]
  },
  {
   "cell_type": "code",
   "execution_count": 2,
   "metadata": {},
   "outputs": [
    {
     "name": "stdout",
     "output_type": "stream",
     "text": [
      "\u001b[92m→\u001b[0m connected lamindb: laminlabs/pertpy-datasets\n",
      "\u001b[92m→\u001b[0m notebook imports: bionty==0.52.0 lamindb==0.76.15\n",
      "\u001b[92m→\u001b[0m loaded Transform('gYFYPQn1'), started Run('IED47duc') at 2024-11-12 15:36:20 UTC\n"
     ]
    }
   ],
   "source": [
    "import lamindb as ln\n",
    "import bionty as bt\n",
    "\n",
    "ln.track(\"gYFYPQn1XPUa0001\")"
   ]
  },
  {
   "cell_type": "code",
   "execution_count": 3,
   "metadata": {},
   "outputs": [
    {
     "name": "stdout",
     "output_type": "stream",
     "text": [
      "\u001b[93m!\u001b[0m please reload your instance to reflect the updates!\n"
     ]
    }
   ],
   "source": [
    "bt.core.sync_all_sources_to_latest()"
   ]
  },
  {
   "cell_type": "code",
   "execution_count": 4,
   "metadata": {},
   "outputs": [
    {
     "data": {
      "text/plain": [
       "Organism(uid='3RZqbcSL', name='house mouse', ontology_id='NCBITaxon:10090', scientific_name='Mus musculus', synonyms='mouse', created_by_id=2, run_id=3, source_id=111, created_at=2024-11-12 15:38:31 UTC)"
      ]
     },
     "execution_count": 4,
     "metadata": {},
     "output_type": "execute_result"
    }
   ],
   "source": [
    "bt.Organism.from_source(ontology_id=\"NCBITaxon:9606\", source=bt.Source.get(\"4tsk\")).save()\n",
    "bt.Organism.from_source(ontology_id=\"NCBITaxon:10090\", source=bt.Source.get(\"4tsk\")).save()"
   ]
  },
  {
   "cell_type": "code",
   "execution_count": 5,
   "metadata": {},
   "outputs": [],
   "source": [
    "# Since bt.CellLine.import_from_source() currently does not work, we manually ingest all values\n",
    "cl_values = bt.CellLine.from_values(bt.CellLine.public().df().index.values,\n",
    "                                    field=\"ontology_id\"\n",
    "                                    )\n",
    "ln.save(cl_values)"
   ]
  },
  {
   "cell_type": "code",
   "execution_count": 6,
   "metadata": {},
   "outputs": [],
   "source": [
    "# Is not implemented\n",
    "# bt.CellMarker.import_from_source()"
   ]
  },
  {
   "cell_type": "code",
   "execution_count": 7,
   "metadata": {},
   "outputs": [],
   "source": [
    "bt.CellType.import_from_source()"
   ]
  },
  {
   "cell_type": "code",
   "execution_count": 8,
   "metadata": {},
   "outputs": [],
   "source": [
    "bt.DevelopmentalStage.import_from_source()"
   ]
  },
  {
   "cell_type": "code",
   "execution_count": 9,
   "metadata": {},
   "outputs": [],
   "source": [
    "bt.Disease.import_from_source(bt.Source.get(\"2L2r\"))"
   ]
  },
  {
   "cell_type": "code",
   "execution_count": 10,
   "metadata": {},
   "outputs": [],
   "source": [
    "bt.Ethnicity.import_from_source()"
   ]
  },
  {
   "cell_type": "code",
   "execution_count": 11,
   "metadata": {},
   "outputs": [],
   "source": [
    "bt.ExperimentalFactor.import_from_source()"
   ]
  },
  {
   "cell_type": "code",
   "execution_count": 12,
   "metadata": {},
   "outputs": [],
   "source": [
    "bt.Gene.import_from_source(organism=\"human\")\n",
    "bt.Gene.import_from_source(organism=\"mouse\")"
   ]
  },
  {
   "cell_type": "code",
   "execution_count": 13,
   "metadata": {},
   "outputs": [],
   "source": [
    "bt.Pathway.import_from_source()"
   ]
  },
  {
   "cell_type": "code",
   "execution_count": 14,
   "metadata": {},
   "outputs": [],
   "source": [
    "bt.Phenotype.import_from_source(organism=\"human\")"
   ]
  },
  {
   "cell_type": "code",
   "execution_count": 15,
   "metadata": {},
   "outputs": [],
   "source": [
    "# bt.Protein.import_from_source()"
   ]
  },
  {
   "cell_type": "code",
   "execution_count": 16,
   "metadata": {},
   "outputs": [],
   "source": [
    "bt.Tissue.import_from_source()"
   ]
  },
  {
   "cell_type": "code",
   "execution_count": 17,
   "metadata": {},
   "outputs": [],
   "source": [
    "# ln.context.finish()"
   ]
  }
 ],
 "metadata": {
  "kernelspec": {
   "display_name": "lamindb",
   "language": "python",
   "name": "python3"
  },
  "language_info": {
   "codemirror_mode": {
    "name": "ipython",
    "version": 3
   },
   "file_extension": ".py",
   "mimetype": "text/x-python",
   "name": "python",
   "nbconvert_exporter": "python",
   "pygments_lexer": "ipython3",
   "version": "3.11.7"
  }
 },
 "nbformat": 4,
 "nbformat_minor": 2
}
