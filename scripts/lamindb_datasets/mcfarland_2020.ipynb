{
 "cells": [
  {
   "cell_type": "markdown",
   "metadata": {},
   "source": [
    "# McFarland 2020"
   ]
  },
  {
   "cell_type": "code",
   "execution_count": 1,
   "metadata": {},
   "outputs": [],
   "source": [
    "#!pip install pertpy-datasets"
   ]
  },
  {
   "cell_type": "code",
   "execution_count": 2,
   "metadata": {},
   "outputs": [
    {
     "name": "stdout",
     "output_type": "stream",
     "text": [
      "\u001b[92m→\u001b[0m connected lamindb: laminlabs/pertpy-datasets\n"
     ]
    }
   ],
   "source": [
    "# Using a local instance here but in practice, we use `laminlabs/pertpy-datasets`\n",
    "!lamin load laminlabs/pertpy-datasets"
   ]
  },
  {
   "cell_type": "code",
   "execution_count": 3,
   "metadata": {},
   "outputs": [
    {
     "name": "stdout",
     "output_type": "stream",
     "text": [
      "\u001b[92m→\u001b[0m connected lamindb: laminlabs/pertpy-datasets\n"
     ]
    },
    {
     "name": "stderr",
     "output_type": "stream",
     "text": [
      "/home/zeth/miniconda3/envs/lamindb/lib/python3.11/site-packages/anndata/_io/__init__.py:12: FutureWarning: Importing read_zarr from `anndata._io` is deprecated. Please use anndata.io instead.\n",
      "  warnings.warn(\n"
     ]
    }
   ],
   "source": [
    "import lamindb as ln\n",
    "import bionty as bt\n",
    "import wetlab as wl\n",
    "import findrefs as fr\n",
    "\n",
    "import pertpy_datasets as pts\n",
    "import anndata as ad\n",
    "import scanpy as sc\n",
    "\n",
    "THIS_INSTANCE = \"laminlabs/pertpy-datasets\""
   ]
  },
  {
   "cell_type": "code",
   "execution_count": 4,
   "metadata": {},
   "outputs": [
    {
     "name": "stdout",
     "output_type": "stream",
     "text": [
      "\u001b[92m→\u001b[0m notebook imports: anndata==0.11.1 bionty==0.52.0 findrefs==0.1.0 lamindb==0.76.15 numpy==2.0.2 pertpy_datasets==0.1.0 scanpy==1.10.4 wetlab==0.34.0\n",
      "\u001b[92m→\u001b[0m loaded Transform('HIRTYxL3'), started Run('GKmYQzax') at 2024-11-13 11:12:35 UTC\n"
     ]
    }
   ],
   "source": [
    "ln.track(\"HIRTYxL3aZc70000\")"
   ]
  },
  {
   "cell_type": "code",
   "execution_count": 5,
   "metadata": {},
   "outputs": [
    {
     "data": {
      "text/html": [
       "<div>\n",
       "<style scoped>\n",
       "    .dataframe tbody tr th:only-of-type {\n",
       "        vertical-align: middle;\n",
       "    }\n",
       "\n",
       "    .dataframe tbody tr th {\n",
       "        vertical-align: top;\n",
       "    }\n",
       "\n",
       "    .dataframe thead th {\n",
       "        text-align: right;\n",
       "    }\n",
       "</style>\n",
       "<table border=\"1\" class=\"dataframe\">\n",
       "  <thead>\n",
       "    <tr style=\"text-align: right;\">\n",
       "      <th></th>\n",
       "      <th>DepMap_ID</th>\n",
       "      <th>cancer</th>\n",
       "      <th>cell_det_rate</th>\n",
       "      <th>cell_line</th>\n",
       "      <th>cell_quality</th>\n",
       "      <th>channel</th>\n",
       "      <th>disease</th>\n",
       "      <th>dose_unit</th>\n",
       "      <th>dose_value</th>\n",
       "      <th>doublet_CL1</th>\n",
       "      <th>...</th>\n",
       "      <th>singlet_z_margin</th>\n",
       "      <th>time</th>\n",
       "      <th>tissue_type</th>\n",
       "      <th>tot_reads</th>\n",
       "      <th>nperts</th>\n",
       "      <th>ngenes</th>\n",
       "      <th>ncounts</th>\n",
       "      <th>percent_mito</th>\n",
       "      <th>percent_ribo</th>\n",
       "      <th>chembl-ID</th>\n",
       "    </tr>\n",
       "  </thead>\n",
       "  <tbody>\n",
       "    <tr>\n",
       "      <th>AAACCTGAGACAAGCC</th>\n",
       "      <td>ACH-000174</td>\n",
       "      <td>True</td>\n",
       "      <td>0.114940</td>\n",
       "      <td>CAL62</td>\n",
       "      <td>normal</td>\n",
       "      <td>nan</td>\n",
       "      <td>thyroid cancer</td>\n",
       "      <td>µM</td>\n",
       "      <td>5.0</td>\n",
       "      <td>CAL62_THYROID</td>\n",
       "      <td>...</td>\n",
       "      <td>14.820933</td>\n",
       "      <td>24</td>\n",
       "      <td>cell_line</td>\n",
       "      <td>1094</td>\n",
       "      <td>1</td>\n",
       "      <td>3758</td>\n",
       "      <td>17155.0</td>\n",
       "      <td>4.447683</td>\n",
       "      <td>28.079277</td>\n",
       "      <td>CHEMBL443684</td>\n",
       "    </tr>\n",
       "    <tr>\n",
       "      <th>AAACCTGAGAGATGAG</th>\n",
       "      <td>ACH-000601</td>\n",
       "      <td>True</td>\n",
       "      <td>0.122660</td>\n",
       "      <td>MIAPACA2</td>\n",
       "      <td>normal</td>\n",
       "      <td>nan</td>\n",
       "      <td>pancreatic cancer</td>\n",
       "      <td>µM</td>\n",
       "      <td>5.0</td>\n",
       "      <td>MIAPACA2_PANCREAS</td>\n",
       "      <td>...</td>\n",
       "      <td>14.746431</td>\n",
       "      <td>24</td>\n",
       "      <td>cell_line</td>\n",
       "      <td>1009</td>\n",
       "      <td>1</td>\n",
       "      <td>4009</td>\n",
       "      <td>19764.0</td>\n",
       "      <td>7.468124</td>\n",
       "      <td>25.460433</td>\n",
       "      <td>CHEMBL443684</td>\n",
       "    </tr>\n",
       "    <tr>\n",
       "      <th>AAACCTGAGCGTTGCC</th>\n",
       "      <td>ACH-000601</td>\n",
       "      <td>True</td>\n",
       "      <td>0.176608</td>\n",
       "      <td>MIAPACA2</td>\n",
       "      <td>normal</td>\n",
       "      <td>nan</td>\n",
       "      <td>pancreatic cancer</td>\n",
       "      <td>µM</td>\n",
       "      <td>5.0</td>\n",
       "      <td>MIAPACA2_PANCREAS</td>\n",
       "      <td>...</td>\n",
       "      <td>16.011316</td>\n",
       "      <td>24</td>\n",
       "      <td>cell_line</td>\n",
       "      <td>3022</td>\n",
       "      <td>1</td>\n",
       "      <td>5772</td>\n",
       "      <td>47352.0</td>\n",
       "      <td>2.755955</td>\n",
       "      <td>27.965028</td>\n",
       "      <td>CHEMBL443684</td>\n",
       "    </tr>\n",
       "  </tbody>\n",
       "</table>\n",
       "<p>3 rows × 36 columns</p>\n",
       "</div>"
      ],
      "text/plain": [
       "                   DepMap_ID  cancer  cell_det_rate cell_line cell_quality  \\\n",
       "AAACCTGAGACAAGCC  ACH-000174    True       0.114940     CAL62       normal   \n",
       "AAACCTGAGAGATGAG  ACH-000601    True       0.122660  MIAPACA2       normal   \n",
       "AAACCTGAGCGTTGCC  ACH-000601    True       0.176608  MIAPACA2       normal   \n",
       "\n",
       "                 channel            disease dose_unit  dose_value  \\\n",
       "AAACCTGAGACAAGCC     nan     thyroid cancer        µM         5.0   \n",
       "AAACCTGAGAGATGAG     nan  pancreatic cancer        µM         5.0   \n",
       "AAACCTGAGCGTTGCC     nan  pancreatic cancer        µM         5.0   \n",
       "\n",
       "                        doublet_CL1  ... singlet_z_margin  time  tissue_type  \\\n",
       "AAACCTGAGACAAGCC      CAL62_THYROID  ...        14.820933    24    cell_line   \n",
       "AAACCTGAGAGATGAG  MIAPACA2_PANCREAS  ...        14.746431    24    cell_line   \n",
       "AAACCTGAGCGTTGCC  MIAPACA2_PANCREAS  ...        16.011316    24    cell_line   \n",
       "\n",
       "                  tot_reads nperts ngenes  ncounts percent_mito  percent_ribo  \\\n",
       "AAACCTGAGACAAGCC       1094      1   3758  17155.0     4.447683     28.079277   \n",
       "AAACCTGAGAGATGAG       1009      1   4009  19764.0     7.468124     25.460433   \n",
       "AAACCTGAGCGTTGCC       3022      1   5772  47352.0     2.755955     27.965028   \n",
       "\n",
       "                     chembl-ID  \n",
       "AAACCTGAGACAAGCC  CHEMBL443684  \n",
       "AAACCTGAGAGATGAG  CHEMBL443684  \n",
       "AAACCTGAGCGTTGCC  CHEMBL443684  \n",
       "\n",
       "[3 rows x 36 columns]"
      ]
     },
     "execution_count": 5,
     "metadata": {},
     "output_type": "execute_result"
    }
   ],
   "source": [
    "adata = ad.read_h5ad(\"data/mcfarland_2020.h5ad\")\n",
    "adata.obs.head(3)"
   ]
  },
  {
   "cell_type": "code",
   "execution_count": 6,
   "metadata": {},
   "outputs": [],
   "source": [
    "# Calculate an embedding because CELLxGENE requires one\n",
    "# sc.tl.pca(adata)\n",
    "import numpy as np\n",
    "adata.obsm[\"X_pca\"] = np.random.rand(adata.shape[0], 10)"
   ]
  },
  {
   "cell_type": "markdown",
   "metadata": {},
   "source": [
    "## Curator non-perturbation data"
   ]
  },
  {
   "cell_type": "code",
   "execution_count": 7,
   "metadata": {},
   "outputs": [],
   "source": [
    "adata.obs[\"disease\"] = adata.obs[\"disease\"].cat.rename_categories(\n",
    "    {\n",
    "        \"colon/colorectal cancer\": \"colorectal cancer\",\n",
    "        \"rhabdoid\": \"rhabdoid tumor\",\n",
    "        \"bladder cancer\": \"urinary bladder carcinoma\",\n",
    "        \"endometrial/uterine cancer\": \"uterine corpus cancer\",\n",
    "    }\n",
    ")\n",
    "\n",
    "adata.obs[\"cell_line\"] = bt.CellLine.public(\n",
    "    source=bt.Source.filter(name=\"depmap\").one()\n",
    ").standardize(adata.obs[\"cell_line\"], field=\"name\")\n",
    "\n",
    "adata.obs[\"cell_line\"] = adata.obs[\"cell_line\"].astype('category')\n",
    "\n",
    "# JQ1 is always uppercased\n",
    "adata.obs[\"perturbation\"] = adata.obs[\"perturbation\"].cat.rename_categories(\n",
    "    lambda category: category if category == \"JQ1\" else category.lower()\n",
    ")\n",
    "\n",
    "adata.obs = adata.obs.rename(columns={\"DepMap_ID\": \"depmap_id\"})\n",
    "adata.obs = adata.obs.drop(columns=\"percent.mito\")\n",
    "\n",
    "adata.var[\"symbol\"] = adata.var.index\n",
    "adata.var.set_index('ensembl_id', inplace=True)"
   ]
  },
  {
   "cell_type": "code",
   "execution_count": 8,
   "metadata": {},
   "outputs": [
    {
     "name": "stdout",
     "output_type": "stream",
     "text": [
      "\u001b[92m→\u001b[0m added defaults to the AnnData object: {'assay': 'unknown', 'cell_type': 'unknown', 'development_stage': 'unknown', 'donor_id': 'unknown', 'self_reported_ethnicity': 'unknown', 'suspension_type': 'cell', 'genetic_treatments': '', 'compound_treatments': '', 'environmental_treatments': '', 'combination_treatments': ''}\n",
      "\u001b[92m→\u001b[0m validating metadata using registries of instance \u001b[3mlaminlabs/pertpy-datasets\u001b[0m\n",
      "\u001b[94m•\u001b[0m mapping \u001b[3mvar_index\u001b[0m on \u001b[3mGene.ensembl_gene_id\u001b[0m\n",
      "\u001b[93m!\u001b[0m    \u001b[1;91m1875 terms\u001b[0m are not validated: \u001b[1;91m'ENSG00000237683', 'ENSG00000235249', 'ENSG00000236743', 'ENSG00000231709', 'ENSG00000239664', 'ENSG00000223659', 'ENSG00000185097', 'ENSG00000235373', 'ENSG00000240618', 'ENSG00000269831', ...\u001b[0m\n",
      "→ fix typos, remove non-existent values, or save terms via \u001b[1;91m.add_new_from_var_index()\u001b[0m\n",
      "\u001b[94m•\u001b[0m mapping \u001b[3massay\u001b[0m on \u001b[3mExperimentalFactor.name\u001b[0m\n",
      "\u001b[93m!\u001b[0m    \u001b[1;91m1 term\u001b[0m is not validated: \u001b[1;91m'unknown'\u001b[0m\n",
      "→ fix typo, remove non-existent value, or save term via \u001b[1;91m.add_new_from('assay')\u001b[0m\n",
      "\u001b[94m•\u001b[0m mapping \u001b[3mcell_type\u001b[0m on \u001b[3mCellType.name\u001b[0m\n",
      "\u001b[93m!\u001b[0m    \u001b[1;91m1 term\u001b[0m is not validated: \u001b[1;91m'unknown'\u001b[0m\n",
      "→ fix typo, remove non-existent value, or save term via \u001b[1;91m.add_new_from('cell_type')\u001b[0m\n",
      "\u001b[94m•\u001b[0m mapping \u001b[3mdevelopment_stage\u001b[0m on \u001b[3mDevelopmentalStage.name\u001b[0m\n",
      "\u001b[93m!\u001b[0m    \u001b[1;91m1 term\u001b[0m is not validated: \u001b[1;91m'unknown'\u001b[0m\n",
      "→ fix typo, remove non-existent value, or save term via \u001b[1;91m.add_new_from('development_stage')\u001b[0m\n",
      "\u001b[92m✓\u001b[0m 'disease' is validated against \u001b[3mDisease.name\u001b[0m\n",
      "\u001b[94m•\u001b[0m mapping \u001b[3mdonor_id\u001b[0m on \u001b[3mULabel.name\u001b[0m\n",
      "\u001b[93m!\u001b[0m    \u001b[1;91m1 term\u001b[0m is not validated: \u001b[1;91m'unknown'\u001b[0m\n",
      "→ fix typo, remove non-existent value, or save term via \u001b[1;91m.add_new_from('donor_id')\u001b[0m\n",
      "\u001b[94m•\u001b[0m mapping \u001b[3mself_reported_ethnicity\u001b[0m on \u001b[3mEthnicity.name\u001b[0m\n",
      "\u001b[93m!\u001b[0m    \u001b[1;91m1 term\u001b[0m is not validated: \u001b[1;91m'unknown'\u001b[0m\n",
      "→ fix typo, remove non-existent value, or save term via \u001b[1;91m.add_new_from('self_reported_ethnicity')\u001b[0m\n",
      "\u001b[94m•\u001b[0m mapping \u001b[3msex\u001b[0m on \u001b[3mPhenotype.name\u001b[0m\n",
      "\u001b[93m!\u001b[0m    \u001b[1;91m1 term\u001b[0m is not validated: \u001b[1;91m'Unknown'\u001b[0m\n",
      "→ fix typo, remove non-existent value, or save term via \u001b[1;91m.add_new_from('sex')\u001b[0m\n",
      "\u001b[94m•\u001b[0m mapping \u001b[3msuspension_type\u001b[0m on \u001b[3mULabel.name\u001b[0m\n",
      "\u001b[93m!\u001b[0m    \u001b[1;91m1 term\u001b[0m is not validated: \u001b[1;91m'cell'\u001b[0m\n",
      "→ fix typo, remove non-existent value, or save term via \u001b[1;91m.add_new_from('suspension_type')\u001b[0m\n",
      "\u001b[94m•\u001b[0m mapping \u001b[3mtissue_type\u001b[0m on \u001b[3mULabel.name\u001b[0m\n",
      "\u001b[93m!\u001b[0m    \u001b[1;91m1 term\u001b[0m is not validated: \u001b[1;91m'cell_line'\u001b[0m\n",
      "→ fix typo, remove non-existent value, or save term via \u001b[1;91m.add_new_from('tissue_type')\u001b[0m\n",
      "\u001b[92m✓\u001b[0m 'organism' is validated against \u001b[3mOrganism.name\u001b[0m\n",
      "\u001b[94m•\u001b[0m mapping \u001b[3mcell_line\u001b[0m on \u001b[3mCellLine.name\u001b[0m\n",
      "\u001b[93m!\u001b[0m    \u001b[1;91m1 term\u001b[0m is not validated: \u001b[1;91m'NCIH1339'\u001b[0m\n",
      "→ fix typo, remove non-existent value, or save term via \u001b[1;91m.add_new_from('cell_line')\u001b[0m\n",
      "\u001b[92m✓\u001b[0m 'genetic_treatments' is validated against \u001b[3mGeneticTreatment.name\u001b[0m\n",
      "\u001b[92m✓\u001b[0m 'compound_treatments' is validated against \u001b[3mCompoundTreatment.name\u001b[0m\n",
      "\u001b[92m✓\u001b[0m 'environmental_treatments' is validated against \u001b[3mEnvironmentalTreatment.name\u001b[0m\n",
      "\u001b[92m✓\u001b[0m 'combination_treatments' is validated against \u001b[3mCombinationTreatment.name\u001b[0m\n"
     ]
    },
    {
     "data": {
      "text/plain": [
       "False"
      ]
     },
     "execution_count": 8,
     "metadata": {},
     "output_type": "execute_result"
    }
   ],
   "source": [
    "curator = pts.PerturbationCurator(\n",
    "    adata, using_key=THIS_INSTANCE\n",
    ")\n",
    "curator.validate()"
   ]
  },
  {
   "cell_type": "code",
   "execution_count": null,
   "metadata": {},
   "outputs": [],
   "source": [
    "adata.obs[\"sex\"] = adata.obs[\"sex\"].replace({\"Unknown\": \"unknown\"})"
   ]
  },
  {
   "cell_type": "code",
   "execution_count": null,
   "metadata": {},
   "outputs": [],
   "source": [
    "efo_lo = bt.ExperimentalFactor.public().lookup()"
   ]
  },
  {
   "cell_type": "code",
   "execution_count": null,
   "metadata": {},
   "outputs": [],
   "source": [
    "adata.obs[\"assay\"] = efo_lo.single_cell_rna_sequencing.name"
   ]
  },
  {
   "cell_type": "code",
   "execution_count": null,
   "metadata": {},
   "outputs": [],
   "source": [
    "adata = adata[:, ~adata.var_names.isin(curator.non_validated[\"var_index\"])].copy()"
   ]
  },
  {
   "cell_type": "code",
   "execution_count": null,
   "metadata": {},
   "outputs": [
    {
     "name": "stdout",
     "output_type": "stream",
     "text": [
      "\u001b[92m→\u001b[0m validating metadata using registries of instance \u001b[3mtest-perturbation\u001b[0m\n",
      "\u001b[94m•\u001b[0m saving validated records of 'var_index'\n",
      "\u001b[94m•\u001b[0m saving validated terms of 'assay'\n",
      "\u001b[94m•\u001b[0m saving validated terms of 'cell_type'\n",
      "\u001b[94m•\u001b[0m saving validated terms of 'development_stage'\n",
      "\u001b[94m•\u001b[0m saving validated terms of 'disease'\n",
      "\u001b[94m•\u001b[0m saving validated terms of 'donor_id'\n",
      "\u001b[94m•\u001b[0m saving validated terms of 'self_reported_ethnicity'\n",
      "\u001b[94m•\u001b[0m saving validated terms of 'sex'\n",
      "\u001b[94m•\u001b[0m saving validated terms of 'suspension_type'\n",
      "\u001b[94m•\u001b[0m saving validated terms of 'tissue_type'\n",
      "\u001b[94m•\u001b[0m saving validated terms of 'organism'\n",
      "\u001b[94m•\u001b[0m saving validated terms of 'cell_line'\n",
      "\u001b[94m•\u001b[0m saving validated terms of 'genetic_treatments'\n",
      "\u001b[94m•\u001b[0m saving validated terms of 'compound_treatments'\n",
      "\u001b[94m•\u001b[0m saving validated terms of 'environmental_treatments'\n",
      "\u001b[94m•\u001b[0m saving validated terms of 'combination_treatments'\n",
      "\u001b[92m✓\u001b[0m var_index is validated against \u001b[3mGene.ensembl_gene_id\u001b[0m\n",
      "\u001b[92m✓\u001b[0m assay is validated against \u001b[3mExperimentalFactor.name\u001b[0m\n",
      "\u001b[94m•\u001b[0m mapping \u001b[3mcell_type\u001b[0m on \u001b[3mCellType.name\u001b[0m\n",
      "\u001b[93m!\u001b[0m    \u001b[1;91m1 terms\u001b[0m is not validated: \u001b[1;91m'unknown'\u001b[0m\n",
      "→ fix typos, remove non-existent values, or save terms via \u001b[1;91m.add_new_from('cell_type')\u001b[0m\n",
      "\u001b[94m•\u001b[0m mapping \u001b[3mdevelopment_stage\u001b[0m on \u001b[3mDevelopmentalStage.name\u001b[0m\n",
      "\u001b[93m!\u001b[0m    \u001b[1;91m1 terms\u001b[0m is not validated: \u001b[1;91m'unknown'\u001b[0m\n",
      "→ fix typos, remove non-existent values, or save terms via \u001b[1;91m.add_new_from('development_stage')\u001b[0m\n",
      "\u001b[92m✓\u001b[0m disease is validated against \u001b[3mDisease.name\u001b[0m\n",
      "\u001b[94m•\u001b[0m mapping \u001b[3mdonor_id\u001b[0m on \u001b[3mULabel.name\u001b[0m\n",
      "\u001b[93m!\u001b[0m    \u001b[1;91m1 terms\u001b[0m is not validated: \u001b[1;91m'unknown'\u001b[0m\n",
      "→ fix typos, remove non-existent values, or save terms via \u001b[1;91m.add_new_from('donor_id')\u001b[0m\n",
      "\u001b[94m•\u001b[0m mapping \u001b[3mself_reported_ethnicity\u001b[0m on \u001b[3mEthnicity.name\u001b[0m\n",
      "\u001b[93m!\u001b[0m    \u001b[1;91m1 terms\u001b[0m is not validated: \u001b[1;91m'unknown'\u001b[0m\n",
      "→ fix typos, remove non-existent values, or save terms via \u001b[1;91m.add_new_from('self_reported_ethnicity')\u001b[0m\n",
      "\u001b[94m•\u001b[0m mapping \u001b[3msex\u001b[0m on \u001b[3mPhenotype.name\u001b[0m\n",
      "\u001b[93m!\u001b[0m    \u001b[1;91m1 terms\u001b[0m is not validated: \u001b[1;91m'unknown'\u001b[0m\n",
      "→ fix typos, remove non-existent values, or save terms via \u001b[1;91m.add_new_from('sex')\u001b[0m\n",
      "\u001b[94m•\u001b[0m mapping \u001b[3msuspension_type\u001b[0m on \u001b[3mULabel.name\u001b[0m\n",
      "\u001b[93m!\u001b[0m    \u001b[1;91m1 terms\u001b[0m is not validated: \u001b[1;91m'cell'\u001b[0m\n",
      "→ fix typos, remove non-existent values, or save terms via \u001b[1;91m.add_new_from('suspension_type')\u001b[0m\n",
      "\u001b[94m•\u001b[0m mapping \u001b[3mtissue_type\u001b[0m on \u001b[3mULabel.name\u001b[0m\n",
      "\u001b[93m!\u001b[0m    \u001b[1;91m1 terms\u001b[0m is not validated: \u001b[1;91m'cell_line'\u001b[0m\n",
      "→ fix typos, remove non-existent values, or save terms via \u001b[1;91m.add_new_from('tissue_type')\u001b[0m\n",
      "\u001b[92m✓\u001b[0m organism is validated against \u001b[3mOrganism.name\u001b[0m\n",
      "\u001b[92m✓\u001b[0m cell_line is validated against \u001b[3mCellLine.name\u001b[0m\n",
      "\u001b[92m✓\u001b[0m genetic_treatments is validated against \u001b[3mGeneticTreatment.name\u001b[0m\n",
      "\u001b[92m✓\u001b[0m compound_treatments is validated against \u001b[3mCompoundTreatment.name\u001b[0m\n",
      "\u001b[92m✓\u001b[0m environmental_treatments is validated against \u001b[3mEnvironmentalTreatment.name\u001b[0m\n",
      "\u001b[92m✓\u001b[0m combination_treatments is validated against \u001b[3mCombinationTreatment.name\u001b[0m\n"
     ]
    },
    {
     "data": {
      "text/plain": [
       "False"
      ]
     },
     "execution_count": 12,
     "metadata": {},
     "output_type": "execute_result"
    }
   ],
   "source": [
    "# Need to recreate Curator object because we are using a new object\n",
    "curator = pts.PerturbationCurator(adata, using_key=THIS_INSTANCE)\n",
    "curator.validate()"
   ]
  },
  {
   "cell_type": "code",
   "execution_count": null,
   "metadata": {},
   "outputs": [
    {
     "name": "stdout",
     "output_type": "stream",
     "text": [
      "\u001b[94m•\u001b[0m saving validated records of 'var_index'\n",
      "\u001b[94m•\u001b[0m saving validated terms of 'assay'\n",
      "\u001b[94m•\u001b[0m saving validated terms of 'cell_type'\n",
      "\u001b[92m✓\u001b[0m added 1 record with \u001b[3mCellType.name\u001b[0m for \u001b[3mcell_type\u001b[0m: 'unknown'\n",
      "\u001b[94m•\u001b[0m saving validated terms of 'development_stage'\n",
      "\u001b[92m✓\u001b[0m added 1 record with \u001b[3mDevelopmentalStage.name\u001b[0m for \u001b[3mdevelopment_stage\u001b[0m: 'unknown'\n",
      "\u001b[94m•\u001b[0m saving validated terms of 'disease'\n",
      "\u001b[94m•\u001b[0m saving validated terms of 'donor_id'\n",
      "\u001b[92m✓\u001b[0m added 1 record with \u001b[3mULabel.name\u001b[0m for \u001b[3mdonor_id\u001b[0m: 'unknown'\n",
      "\u001b[94m•\u001b[0m saving validated terms of 'self_reported_ethnicity'\n",
      "\u001b[92m✓\u001b[0m added 1 record with \u001b[3mEthnicity.name\u001b[0m for \u001b[3mself_reported_ethnicity\u001b[0m: 'unknown'\n",
      "\u001b[94m•\u001b[0m saving validated terms of 'sex'\n",
      "\u001b[92m✓\u001b[0m added 1 record with \u001b[3mPhenotype.name\u001b[0m for \u001b[3msex\u001b[0m: 'unknown'\n",
      "\u001b[94m•\u001b[0m saving validated terms of 'suspension_type'\n",
      "\u001b[92m✓\u001b[0m added 1 record with \u001b[3mULabel.name\u001b[0m for \u001b[3msuspension_type\u001b[0m: 'cell'\n",
      "\u001b[94m•\u001b[0m saving validated terms of 'tissue_type'\n",
      "\u001b[92m✓\u001b[0m added 1 record with \u001b[3mULabel.name\u001b[0m for \u001b[3mtissue_type\u001b[0m: 'cell_line'\n",
      "\u001b[94m•\u001b[0m saving validated terms of 'organism'\n",
      "\u001b[94m•\u001b[0m saving validated terms of 'cell_line'\n",
      "\u001b[94m•\u001b[0m saving validated terms of 'genetic_treatments'\n",
      "\u001b[94m•\u001b[0m saving validated terms of 'compound_treatments'\n",
      "\u001b[94m•\u001b[0m saving validated terms of 'environmental_treatments'\n",
      "\u001b[94m•\u001b[0m saving validated terms of 'combination_treatments'\n"
     ]
    }
   ],
   "source": [
    "curator.add_new_from(\"all\")"
   ]
  },
  {
   "cell_type": "code",
   "execution_count": null,
   "metadata": {},
   "outputs": [
    {
     "name": "stdout",
     "output_type": "stream",
     "text": [
      "\u001b[92m→\u001b[0m validating metadata using registries of instance \u001b[3mtest-perturbation\u001b[0m\n",
      "\u001b[94m•\u001b[0m saving validated records of 'var_index'\n",
      "\u001b[94m•\u001b[0m saving validated terms of 'assay'\n",
      "\u001b[94m•\u001b[0m saving validated terms of 'cell_type'\n",
      "\u001b[94m•\u001b[0m saving validated terms of 'development_stage'\n",
      "\u001b[94m•\u001b[0m saving validated terms of 'disease'\n",
      "\u001b[94m•\u001b[0m saving validated terms of 'donor_id'\n",
      "\u001b[94m•\u001b[0m saving validated terms of 'self_reported_ethnicity'\n",
      "\u001b[94m•\u001b[0m saving validated terms of 'sex'\n",
      "\u001b[94m•\u001b[0m saving validated terms of 'suspension_type'\n",
      "\u001b[94m•\u001b[0m saving validated terms of 'tissue_type'\n",
      "\u001b[94m•\u001b[0m saving validated terms of 'organism'\n",
      "\u001b[94m•\u001b[0m saving validated terms of 'cell_line'\n",
      "\u001b[94m•\u001b[0m saving validated terms of 'genetic_treatments'\n",
      "\u001b[94m•\u001b[0m saving validated terms of 'compound_treatments'\n",
      "\u001b[94m•\u001b[0m saving validated terms of 'environmental_treatments'\n",
      "\u001b[94m•\u001b[0m saving validated terms of 'combination_treatments'\n",
      "\u001b[92m✓\u001b[0m var_index is validated against \u001b[3mGene.ensembl_gene_id\u001b[0m\n",
      "\u001b[92m✓\u001b[0m assay is validated against \u001b[3mExperimentalFactor.name\u001b[0m\n",
      "\u001b[92m✓\u001b[0m cell_type is validated against \u001b[3mCellType.name\u001b[0m\n",
      "\u001b[92m✓\u001b[0m development_stage is validated against \u001b[3mDevelopmentalStage.name\u001b[0m\n",
      "\u001b[92m✓\u001b[0m disease is validated against \u001b[3mDisease.name\u001b[0m\n",
      "\u001b[92m✓\u001b[0m donor_id is validated against \u001b[3mULabel.name\u001b[0m\n",
      "\u001b[92m✓\u001b[0m self_reported_ethnicity is validated against \u001b[3mEthnicity.name\u001b[0m\n",
      "\u001b[92m✓\u001b[0m sex is validated against \u001b[3mPhenotype.name\u001b[0m\n",
      "\u001b[92m✓\u001b[0m suspension_type is validated against \u001b[3mULabel.name\u001b[0m\n",
      "\u001b[92m✓\u001b[0m tissue_type is validated against \u001b[3mULabel.name\u001b[0m\n",
      "\u001b[92m✓\u001b[0m organism is validated against \u001b[3mOrganism.name\u001b[0m\n",
      "\u001b[92m✓\u001b[0m cell_line is validated against \u001b[3mCellLine.name\u001b[0m\n",
      "\u001b[92m✓\u001b[0m genetic_treatments is validated against \u001b[3mGeneticTreatment.name\u001b[0m\n",
      "\u001b[92m✓\u001b[0m compound_treatments is validated against \u001b[3mCompoundTreatment.name\u001b[0m\n",
      "\u001b[92m✓\u001b[0m environmental_treatments is validated against \u001b[3mEnvironmentalTreatment.name\u001b[0m\n",
      "\u001b[92m✓\u001b[0m combination_treatments is validated against \u001b[3mCombinationTreatment.name\u001b[0m\n"
     ]
    },
    {
     "data": {
      "text/plain": [
       "True"
      ]
     },
     "execution_count": 14,
     "metadata": {},
     "output_type": "execute_result"
    }
   ],
   "source": [
    "curator.validate()"
   ]
  },
  {
   "cell_type": "markdown",
   "metadata": {},
   "source": [
    "All treatment columns validate but that's only because they're all empty."
   ]
  },
  {
   "cell_type": "markdown",
   "metadata": {},
   "source": [
    "## Curate perturbations"
   ]
  },
  {
   "cell_type": "code",
   "execution_count": null,
   "metadata": {},
   "outputs": [],
   "source": [
    "# Move\n",
    "adata.obs[\"genetic_treatments\"] = adata.obs[\"perturbation\"].where(\n",
    "    adata.obs[\"perturbation_type\"] == \"CRISPR\", None\n",
    ")\n",
    "adata.obs[\"compound_treatments\"] = adata.obs[\"perturbation\"].where(\n",
    "    adata.obs[\"perturbation_type\"] == \"drug\", None\n",
    ")"
   ]
  },
  {
   "cell_type": "markdown",
   "metadata": {},
   "source": [
    "### Genetic treatments"
   ]
  },
  {
   "cell_type": "code",
   "execution_count": null,
   "metadata": {},
   "outputs": [
    {
     "data": {
      "text/plain": [
       "[nan, 'sggpx4-2', 'sglacz', 'sggpx4-1', 'sgor2j2']"
      ]
     },
     "execution_count": 16,
     "metadata": {},
     "output_type": "execute_result"
    }
   ],
   "source": [
    "list(adata.obs[\"genetic_treatments\"].unique())"
   ]
  },
  {
   "cell_type": "code",
   "execution_count": null,
   "metadata": {},
   "outputs": [
    {
     "name": "stdout",
     "output_type": "stream",
     "text": [
      "\u001b[92m✓\u001b[0m created \u001b[1;95m1 Gene record from Bionty\u001b[0m matching \u001b[3msymbol\u001b[0m: \u001b[1;95m'GPX4'\u001b[0m\n",
      "\u001b[93m!\u001b[0m record with similar name exists! did you mean to load it?\n"
     ]
    },
    {
     "data": {
      "text/html": [
       "<div>\n",
       "<style scoped>\n",
       "    .dataframe tbody tr th:only-of-type {\n",
       "        vertical-align: middle;\n",
       "    }\n",
       "\n",
       "    .dataframe tbody tr th {\n",
       "        vertical-align: top;\n",
       "    }\n",
       "\n",
       "    .dataframe thead th {\n",
       "        text-align: right;\n",
       "    }\n",
       "</style>\n",
       "<table border=\"1\" class=\"dataframe\">\n",
       "  <thead>\n",
       "    <tr style=\"text-align: right;\">\n",
       "      <th></th>\n",
       "      <th>uid</th>\n",
       "      <th>name</th>\n",
       "      <th>system</th>\n",
       "      <th>sequence</th>\n",
       "      <th>on_target_score</th>\n",
       "      <th>off_target_score</th>\n",
       "      <th>run_id</th>\n",
       "      <th>created_at</th>\n",
       "      <th>created_by_id</th>\n",
       "    </tr>\n",
       "    <tr>\n",
       "      <th>id</th>\n",
       "      <th></th>\n",
       "      <th></th>\n",
       "      <th></th>\n",
       "      <th></th>\n",
       "      <th></th>\n",
       "      <th></th>\n",
       "      <th></th>\n",
       "      <th></th>\n",
       "      <th></th>\n",
       "    </tr>\n",
       "  </thead>\n",
       "  <tbody>\n",
       "    <tr>\n",
       "      <th>1</th>\n",
       "      <td>PuVY1Nkbqahe</td>\n",
       "      <td>sggpx4-1</td>\n",
       "      <td>CRISPR KO</td>\n",
       "      <td>None</td>\n",
       "      <td>None</td>\n",
       "      <td>None</td>\n",
       "      <td>None</td>\n",
       "      <td>2024-10-29 14:07:23.517967+00:00</td>\n",
       "      <td>1</td>\n",
       "    </tr>\n",
       "  </tbody>\n",
       "</table>\n",
       "</div>"
      ],
      "text/plain": [
       "             uid      name     system sequence on_target_score  \\\n",
       "id                                                               \n",
       "1   PuVY1Nkbqahe  sggpx4-1  CRISPR KO     None            None   \n",
       "\n",
       "   off_target_score run_id                       created_at  created_by_id  \n",
       "id                                                                          \n",
       "1              None   None 2024-10-29 14:07:23.517967+00:00              1  "
      ]
     },
     "metadata": {},
     "output_type": "display_data"
    },
    {
     "name": "stdout",
     "output_type": "stream",
     "text": [
      "\u001b[92m→\u001b[0m returning existing TreatmentTarget record with same name: 'Glutathione Peroxidase 4'\n",
      "\u001b[92m✓\u001b[0m created \u001b[1;95m1 Gene record from Bionty\u001b[0m matching \u001b[3msynonyms\u001b[0m: \u001b[1;95m'or2j2'\u001b[0m\n",
      "\u001b[93m!\u001b[0m ambiguous validation in Bionty for 1 record: 'OR2J2'\n"
     ]
    }
   ],
   "source": [
    "treatments = [\n",
    "    (\"sggpx4-1\", \"GPX4\", \"Glutathione Peroxidase 4\"),\n",
    "    (\"sggpx4-2\", \"GPX4\", \"Glutathione Peroxidase 4\"),\n",
    "    (\"sgor2j2\", \"or2j2\", \"Olfactory receptor family 2 subfamily J member 2\"),\n",
    "    (\"sglacz\", \"lacz\", \"beta-galactosidase control\"),  # Control from E. coli\n",
    "]\n",
    "organism = bt.Organism.lookup().human\n",
    "\n",
    "genetic_treatments = []\n",
    "for name, symbol, target_name in treatments:\n",
    "    treatment = wl.GeneticTreatment(system=\"CRISPR KO\", name=name).save()\n",
    "    if symbol != \"lacz\":\n",
    "        gene_result = bt.Gene.from_source(symbol=symbol, organism=organism)\n",
    "        gene = gene_result[0] if isinstance(gene_result, list) else gene_result\n",
    "        gene = gene.save()\n",
    "    else:\n",
    "        gene = bt.Gene(symbol=symbol, organism=organism).save()\n",
    "    target = wl.TreatmentTarget(name=target_name).save()\n",
    "    target.genes.add(gene)\n",
    "    treatment.targets.add(target)\n",
    "    genetic_treatments.append(treatment)"
   ]
  },
  {
   "cell_type": "code",
   "execution_count": null,
   "metadata": {},
   "outputs": [
    {
     "name": "stdout",
     "output_type": "stream",
     "text": [
      "\u001b[92m→\u001b[0m validating metadata using registries of instance \u001b[3mtest-perturbation\u001b[0m\n",
      "\u001b[94m•\u001b[0m saving validated records of 'var_index'\n",
      "\u001b[94m•\u001b[0m saving validated terms of 'assay'\n",
      "\u001b[94m•\u001b[0m saving validated terms of 'cell_type'\n",
      "\u001b[94m•\u001b[0m saving validated terms of 'development_stage'\n",
      "\u001b[94m•\u001b[0m saving validated terms of 'disease'\n",
      "\u001b[94m•\u001b[0m saving validated terms of 'donor_id'\n",
      "\u001b[94m•\u001b[0m saving validated terms of 'self_reported_ethnicity'\n",
      "\u001b[94m•\u001b[0m saving validated terms of 'sex'\n",
      "\u001b[94m•\u001b[0m saving validated terms of 'suspension_type'\n",
      "\u001b[94m•\u001b[0m saving validated terms of 'tissue_type'\n",
      "\u001b[94m•\u001b[0m saving validated terms of 'organism'\n",
      "\u001b[94m•\u001b[0m saving validated terms of 'cell_line'\n",
      "\u001b[94m•\u001b[0m saving validated terms of 'genetic_treatments'\n",
      "\u001b[94m•\u001b[0m saving validated terms of 'compound_treatments'\n",
      "\u001b[94m•\u001b[0m saving validated terms of 'environmental_treatments'\n",
      "\u001b[94m•\u001b[0m saving validated terms of 'combination_treatments'\n",
      "\u001b[92m✓\u001b[0m var_index is validated against \u001b[3mGene.ensembl_gene_id\u001b[0m\n",
      "\u001b[92m✓\u001b[0m assay is validated against \u001b[3mExperimentalFactor.name\u001b[0m\n",
      "\u001b[92m✓\u001b[0m cell_type is validated against \u001b[3mCellType.name\u001b[0m\n",
      "\u001b[92m✓\u001b[0m development_stage is validated against \u001b[3mDevelopmentalStage.name\u001b[0m\n",
      "\u001b[92m✓\u001b[0m disease is validated against \u001b[3mDisease.name\u001b[0m\n",
      "\u001b[92m✓\u001b[0m donor_id is validated against \u001b[3mULabel.name\u001b[0m\n",
      "\u001b[92m✓\u001b[0m self_reported_ethnicity is validated against \u001b[3mEthnicity.name\u001b[0m\n",
      "\u001b[92m✓\u001b[0m sex is validated against \u001b[3mPhenotype.name\u001b[0m\n",
      "\u001b[92m✓\u001b[0m suspension_type is validated against \u001b[3mULabel.name\u001b[0m\n",
      "\u001b[92m✓\u001b[0m tissue_type is validated against \u001b[3mULabel.name\u001b[0m\n",
      "\u001b[92m✓\u001b[0m organism is validated against \u001b[3mOrganism.name\u001b[0m\n",
      "\u001b[92m✓\u001b[0m cell_line is validated against \u001b[3mCellLine.name\u001b[0m\n",
      "\u001b[92m✓\u001b[0m genetic_treatments is validated against \u001b[3mGeneticTreatment.name\u001b[0m\n",
      "\u001b[94m•\u001b[0m mapping \u001b[3mcompound_treatments\u001b[0m on \u001b[3mCompoundTreatment.name\u001b[0m\n",
      "\u001b[93m!\u001b[0m    \u001b[1;91m14 terms\u001b[0m are not validated: \u001b[1;91m'trametinib', 'afatinib', 'dabrafenib', 'gemcitabine', 'navitoclax', 'bortezomib', 'brd3379', 'JQ1', 'azd5591', 'control', ...\u001b[0m\n",
      "→ fix typos, remove non-existent values, or save terms via \u001b[1;91m.add_new_from('compound_treatments')\u001b[0m\n",
      "\u001b[92m✓\u001b[0m environmental_treatments is validated against \u001b[3mEnvironmentalTreatment.name\u001b[0m\n",
      "\u001b[92m✓\u001b[0m combination_treatments is validated against \u001b[3mCombinationTreatment.name\u001b[0m\n"
     ]
    },
    {
     "data": {
      "text/plain": [
       "False"
      ]
     },
     "execution_count": 18,
     "metadata": {},
     "output_type": "execute_result"
    }
   ],
   "source": [
    "curator.validate()"
   ]
  },
  {
   "cell_type": "markdown",
   "metadata": {},
   "source": [
    "### Compounds"
   ]
  },
  {
   "cell_type": "code",
   "execution_count": null,
   "metadata": {},
   "outputs": [
    {
     "name": "stdout",
     "output_type": "stream",
     "text": [
      "\u001b[92m✓\u001b[0m created \u001b[1;95m8 Compound records from Bionty\u001b[0m matching \u001b[3mname\u001b[0m: \u001b[1;95m'trametinib', 'afatinib', 'dabrafenib', 'gemcitabine', 'navitoclax', 'bortezomib', 'JQ1', 'everolimus'\u001b[0m\n",
      "\u001b[93m!\u001b[0m \u001b[1;91mdid not create\u001b[0m Compound records for \u001b[1;93m6 non-validated\u001b[0m \u001b[3mnames\u001b[0m: \u001b[1;93m'azd5591', 'brd3379', 'control', 'idasanutlin', 'prexasertib', 'taselisib'\u001b[0m\n"
     ]
    }
   ],
   "source": [
    "compounds = wl.Compound.from_values(adata.obs[\"compound_treatments\"], field=\"name\")"
   ]
  },
  {
   "cell_type": "code",
   "execution_count": null,
   "metadata": {},
   "outputs": [],
   "source": [
    "# The remaining compounds are not in chebi and we create records for them\n",
    "for missing in [\n",
    "    \"azd5591\",\n",
    "    \"brd3379\",\n",
    "    \"control\",\n",
    "    \"idasanutlin\",\n",
    "    \"prexasertib\",\n",
    "    \"taselisib\",\n",
    "]:\n",
    "    compounds.append(wl.Compound(name=missing))\n",
    "ln.save(compounds)"
   ]
  },
  {
   "cell_type": "code",
   "execution_count": null,
   "metadata": {},
   "outputs": [],
   "source": [
    "drug_metadata = adata.obs[adata.obs[\"compound_treatments\"].notna()]\n",
    "\n",
    "unique_treatments = drug_metadata[\n",
    "    [\"perturbation\", \"dose_unit\", \"dose_value\"]\n",
    "].drop_duplicates()\n",
    "\n",
    "compound_treatments = []\n",
    "for _, row in unique_treatments.iterrows():\n",
    "    compound = wl.Compound.get(name=row[\"perturbation\"])\n",
    "    treatment = wl.CompoundTreatment(\n",
    "        name=compound.name,\n",
    "        concentration=row[\"dose_value\"],\n",
    "        concentration_unit=row[\"dose_unit\"],\n",
    "    )\n",
    "    compound_treatments.append(treatment)\n",
    "\n",
    "ln.save(compound_treatments)"
   ]
  },
  {
   "cell_type": "code",
   "execution_count": null,
   "metadata": {},
   "outputs": [
    {
     "name": "stdout",
     "output_type": "stream",
     "text": [
      "\u001b[92m✓\u001b[0m created \u001b[1;95m1 Protein record from Bionty\u001b[0m matching \u001b[3muniprotkb_id\u001b[0m: \u001b[1;95m'P36507'\u001b[0m\n",
      "\u001b[92m✓\u001b[0m created \u001b[1;95m1 Protein record from Bionty\u001b[0m matching \u001b[3muniprotkb_id\u001b[0m: \u001b[1;95m'P00533'\u001b[0m\n",
      "\u001b[92m✓\u001b[0m created \u001b[1;95m1 Protein record from Bionty\u001b[0m matching \u001b[3muniprotkb_id\u001b[0m: \u001b[1;95m'Q9UK79'\u001b[0m\n",
      "\u001b[92m✓\u001b[0m created \u001b[1;95m1 Protein record from Bionty\u001b[0m matching \u001b[3muniprotkb_id\u001b[0m: \u001b[1;95m'Q15303'\u001b[0m\n",
      "\u001b[92m→\u001b[0m returning existing TreatmentTarget record with same name: 'MAPK/ERK pathway'\n",
      "\u001b[92m✓\u001b[0m created \u001b[1;95m1 Protein record from Bionty\u001b[0m matching \u001b[3muniprotkb_id\u001b[0m: \u001b[1;95m'P15056'\u001b[0m\n",
      "\u001b[92m✓\u001b[0m created \u001b[1;95m1 Protein record from Bionty\u001b[0m matching \u001b[3muniprotkb_id\u001b[0m: \u001b[1;95m'P23921'\u001b[0m\n",
      "\u001b[92m✓\u001b[0m created \u001b[1;95m1 Protein record from Bionty\u001b[0m matching \u001b[3muniprotkb_id\u001b[0m: \u001b[1;95m'P10415'\u001b[0m\n",
      "\u001b[92m✓\u001b[0m created \u001b[1;95m1 Protein record from Bionty\u001b[0m matching \u001b[3muniprotkb_id\u001b[0m: \u001b[1;95m'Q07812'\u001b[0m\n",
      "\u001b[93m!\u001b[0m record with similar name exists! did you mean to load it?\n"
     ]
    },
    {
     "data": {
      "text/html": [
       "<div>\n",
       "<style scoped>\n",
       "    .dataframe tbody tr th:only-of-type {\n",
       "        vertical-align: middle;\n",
       "    }\n",
       "\n",
       "    .dataframe tbody tr th {\n",
       "        vertical-align: top;\n",
       "    }\n",
       "\n",
       "    .dataframe thead th {\n",
       "        text-align: right;\n",
       "    }\n",
       "</style>\n",
       "<table border=\"1\" class=\"dataframe\">\n",
       "  <thead>\n",
       "    <tr style=\"text-align: right;\">\n",
       "      <th></th>\n",
       "      <th>uid</th>\n",
       "      <th>name</th>\n",
       "      <th>description</th>\n",
       "      <th>run_id</th>\n",
       "      <th>created_at</th>\n",
       "      <th>created_by_id</th>\n",
       "    </tr>\n",
       "    <tr>\n",
       "      <th>id</th>\n",
       "      <th></th>\n",
       "      <th></th>\n",
       "      <th></th>\n",
       "      <th></th>\n",
       "      <th></th>\n",
       "      <th></th>\n",
       "    </tr>\n",
       "  </thead>\n",
       "  <tbody>\n",
       "    <tr>\n",
       "      <th>4</th>\n",
       "      <td>CjakOwn0</td>\n",
       "      <td>MAPK/ERK pathway</td>\n",
       "      <td>None</td>\n",
       "      <td>None</td>\n",
       "      <td>2024-10-29 14:07:36.548584+00:00</td>\n",
       "      <td>1</td>\n",
       "    </tr>\n",
       "  </tbody>\n",
       "</table>\n",
       "</div>"
      ],
      "text/plain": [
       "         uid              name description run_id  \\\n",
       "id                                                  \n",
       "4   CjakOwn0  MAPK/ERK pathway        None   None   \n",
       "\n",
       "                         created_at  created_by_id  \n",
       "id                                                  \n",
       "4  2024-10-29 14:07:36.548584+00:00              1  "
      ]
     },
     "metadata": {},
     "output_type": "display_data"
    },
    {
     "name": "stdout",
     "output_type": "stream",
     "text": [
      "\u001b[92m✓\u001b[0m created \u001b[1;95m1 Protein record from Bionty\u001b[0m matching \u001b[3muniprotkb_id\u001b[0m: \u001b[1;95m'P49721'\u001b[0m\n",
      "\u001b[93m!\u001b[0m record with similar name exists! did you mean to load it?\n"
     ]
    },
    {
     "data": {
      "text/html": [
       "<div>\n",
       "<style scoped>\n",
       "    .dataframe tbody tr th:only-of-type {\n",
       "        vertical-align: middle;\n",
       "    }\n",
       "\n",
       "    .dataframe tbody tr th {\n",
       "        vertical-align: top;\n",
       "    }\n",
       "\n",
       "    .dataframe thead th {\n",
       "        text-align: right;\n",
       "    }\n",
       "</style>\n",
       "<table border=\"1\" class=\"dataframe\">\n",
       "  <thead>\n",
       "    <tr style=\"text-align: right;\">\n",
       "      <th></th>\n",
       "      <th>uid</th>\n",
       "      <th>name</th>\n",
       "      <th>description</th>\n",
       "      <th>run_id</th>\n",
       "      <th>created_at</th>\n",
       "      <th>created_by_id</th>\n",
       "    </tr>\n",
       "    <tr>\n",
       "      <th>id</th>\n",
       "      <th></th>\n",
       "      <th></th>\n",
       "      <th></th>\n",
       "      <th></th>\n",
       "      <th></th>\n",
       "      <th></th>\n",
       "    </tr>\n",
       "  </thead>\n",
       "  <tbody>\n",
       "    <tr>\n",
       "      <th>7</th>\n",
       "      <td>5EdhKMoj</td>\n",
       "      <td>Apoptosis regulation</td>\n",
       "      <td>None</td>\n",
       "      <td>None</td>\n",
       "      <td>2024-10-29 14:07:46.070632+00:00</td>\n",
       "      <td>1</td>\n",
       "    </tr>\n",
       "  </tbody>\n",
       "</table>\n",
       "</div>"
      ],
      "text/plain": [
       "         uid                  name description run_id  \\\n",
       "id                                                      \n",
       "7   5EdhKMoj  Apoptosis regulation        None   None   \n",
       "\n",
       "                         created_at  created_by_id  \n",
       "id                                                  \n",
       "7  2024-10-29 14:07:46.070632+00:00              1  "
      ]
     },
     "metadata": {},
     "output_type": "display_data"
    },
    {
     "name": "stdout",
     "output_type": "stream",
     "text": [
      "\u001b[92m✓\u001b[0m created \u001b[1;95m1 Protein record from Bionty\u001b[0m matching \u001b[3muniprotkb_id\u001b[0m: \u001b[1;95m'O60885'\u001b[0m\n",
      "\u001b[92m→\u001b[0m returning existing TreatmentTarget record with same name: 'Transcription regulation (BET proteins)'\n",
      "\u001b[92m→\u001b[0m returning existing TreatmentTarget record with same name: 'Apoptosis regulation'\n",
      "\u001b[92m✓\u001b[0m created \u001b[1;95m1 Protein record from Bionty\u001b[0m matching \u001b[3muniprotkb_id\u001b[0m: \u001b[1;95m'Q07820'\u001b[0m\n",
      "\u001b[92m✓\u001b[0m created \u001b[1;95m1 Protein record from Bionty\u001b[0m matching \u001b[3muniprotkb_id\u001b[0m: \u001b[1;95m'O14757'\u001b[0m\n",
      "\u001b[93m!\u001b[0m records with similar names exist! did you mean to load one of them?\n"
     ]
    },
    {
     "data": {
      "text/html": [
       "<div>\n",
       "<style scoped>\n",
       "    .dataframe tbody tr th:only-of-type {\n",
       "        vertical-align: middle;\n",
       "    }\n",
       "\n",
       "    .dataframe tbody tr th {\n",
       "        vertical-align: top;\n",
       "    }\n",
       "\n",
       "    .dataframe thead th {\n",
       "        text-align: right;\n",
       "    }\n",
       "</style>\n",
       "<table border=\"1\" class=\"dataframe\">\n",
       "  <thead>\n",
       "    <tr style=\"text-align: right;\">\n",
       "      <th></th>\n",
       "      <th>uid</th>\n",
       "      <th>name</th>\n",
       "      <th>description</th>\n",
       "      <th>run_id</th>\n",
       "      <th>created_at</th>\n",
       "      <th>created_by_id</th>\n",
       "    </tr>\n",
       "    <tr>\n",
       "      <th>id</th>\n",
       "      <th></th>\n",
       "      <th></th>\n",
       "      <th></th>\n",
       "      <th></th>\n",
       "      <th></th>\n",
       "      <th></th>\n",
       "    </tr>\n",
       "  </thead>\n",
       "  <tbody>\n",
       "    <tr>\n",
       "      <th>4</th>\n",
       "      <td>CjakOwn0</td>\n",
       "      <td>MAPK/ERK pathway</td>\n",
       "      <td>None</td>\n",
       "      <td>None</td>\n",
       "      <td>2024-10-29 14:07:36.548584+00:00</td>\n",
       "      <td>1</td>\n",
       "    </tr>\n",
       "    <tr>\n",
       "      <th>8</th>\n",
       "      <td>yBJ85bnI</td>\n",
       "      <td>Proteasome pathway</td>\n",
       "      <td>None</td>\n",
       "      <td>None</td>\n",
       "      <td>2024-10-29 14:07:49.114596+00:00</td>\n",
       "      <td>1</td>\n",
       "    </tr>\n",
       "  </tbody>\n",
       "</table>\n",
       "</div>"
      ],
      "text/plain": [
       "         uid                name description run_id  \\\n",
       "id                                                    \n",
       "4   CjakOwn0    MAPK/ERK pathway        None   None   \n",
       "8   yBJ85bnI  Proteasome pathway        None   None   \n",
       "\n",
       "                         created_at  created_by_id  \n",
       "id                                                  \n",
       "4  2024-10-29 14:07:36.548584+00:00              1  \n",
       "8  2024-10-29 14:07:49.114596+00:00              1  "
      ]
     },
     "metadata": {},
     "output_type": "display_data"
    },
    {
     "name": "stdout",
     "output_type": "stream",
     "text": [
      "\u001b[92m✓\u001b[0m created \u001b[1;95m1 Protein record from Bionty\u001b[0m matching \u001b[3muniprotkb_id\u001b[0m: \u001b[1;95m'P42336'\u001b[0m\n",
      "\u001b[92m✓\u001b[0m created \u001b[1;95m1 Protein record from Bionty\u001b[0m matching \u001b[3muniprotkb_id\u001b[0m: \u001b[1;95m'O00329'\u001b[0m\n",
      "\u001b[92m✓\u001b[0m created \u001b[1;95m1 Protein record from Bionty\u001b[0m matching \u001b[3muniprotkb_id\u001b[0m: \u001b[1;95m'P48736'\u001b[0m\n",
      "\u001b[93m!\u001b[0m records with similar names exist! did you mean to load one of them?\n"
     ]
    },
    {
     "data": {
      "text/html": [
       "<div>\n",
       "<style scoped>\n",
       "    .dataframe tbody tr th:only-of-type {\n",
       "        vertical-align: middle;\n",
       "    }\n",
       "\n",
       "    .dataframe tbody tr th {\n",
       "        vertical-align: top;\n",
       "    }\n",
       "\n",
       "    .dataframe thead th {\n",
       "        text-align: right;\n",
       "    }\n",
       "</style>\n",
       "<table border=\"1\" class=\"dataframe\">\n",
       "  <thead>\n",
       "    <tr style=\"text-align: right;\">\n",
       "      <th></th>\n",
       "      <th>uid</th>\n",
       "      <th>name</th>\n",
       "      <th>description</th>\n",
       "      <th>run_id</th>\n",
       "      <th>created_at</th>\n",
       "      <th>created_by_id</th>\n",
       "    </tr>\n",
       "    <tr>\n",
       "      <th>id</th>\n",
       "      <th></th>\n",
       "      <th></th>\n",
       "      <th></th>\n",
       "      <th></th>\n",
       "      <th></th>\n",
       "      <th></th>\n",
       "    </tr>\n",
       "  </thead>\n",
       "  <tbody>\n",
       "    <tr>\n",
       "      <th>7</th>\n",
       "      <td>5EdhKMoj</td>\n",
       "      <td>Apoptosis regulation</td>\n",
       "      <td>None</td>\n",
       "      <td>None</td>\n",
       "      <td>2024-10-29 14:07:46.070632+00:00</td>\n",
       "      <td>1</td>\n",
       "    </tr>\n",
       "    <tr>\n",
       "      <th>9</th>\n",
       "      <td>Ppl50wZN</td>\n",
       "      <td>Transcription regulation (BET proteins)</td>\n",
       "      <td>None</td>\n",
       "      <td>None</td>\n",
       "      <td>2024-10-29 14:07:50.636207+00:00</td>\n",
       "      <td>1</td>\n",
       "    </tr>\n",
       "  </tbody>\n",
       "</table>\n",
       "</div>"
      ],
      "text/plain": [
       "         uid                                     name description run_id  \\\n",
       "id                                                                         \n",
       "7   5EdhKMoj                     Apoptosis regulation        None   None   \n",
       "9   Ppl50wZN  Transcription regulation (BET proteins)        None   None   \n",
       "\n",
       "                         created_at  created_by_id  \n",
       "id                                                  \n",
       "7  2024-10-29 14:07:46.070632+00:00              1  \n",
       "9  2024-10-29 14:07:50.636207+00:00              1  "
      ]
     },
     "metadata": {},
     "output_type": "display_data"
    },
    {
     "name": "stdout",
     "output_type": "stream",
     "text": [
      "\u001b[92m✓\u001b[0m created \u001b[1;95m1 Protein record from Bionty\u001b[0m matching \u001b[3muniprotkb_id\u001b[0m: \u001b[1;95m'Q00987'\u001b[0m\n",
      "\u001b[93m!\u001b[0m records with similar names exist! did you mean to load one of them?\n"
     ]
    },
    {
     "data": {
      "text/html": [
       "<div>\n",
       "<style scoped>\n",
       "    .dataframe tbody tr th:only-of-type {\n",
       "        vertical-align: middle;\n",
       "    }\n",
       "\n",
       "    .dataframe tbody tr th {\n",
       "        vertical-align: top;\n",
       "    }\n",
       "\n",
       "    .dataframe thead th {\n",
       "        text-align: right;\n",
       "    }\n",
       "</style>\n",
       "<table border=\"1\" class=\"dataframe\">\n",
       "  <thead>\n",
       "    <tr style=\"text-align: right;\">\n",
       "      <th></th>\n",
       "      <th>uid</th>\n",
       "      <th>name</th>\n",
       "      <th>description</th>\n",
       "      <th>run_id</th>\n",
       "      <th>created_at</th>\n",
       "      <th>created_by_id</th>\n",
       "    </tr>\n",
       "    <tr>\n",
       "      <th>id</th>\n",
       "      <th></th>\n",
       "      <th></th>\n",
       "      <th></th>\n",
       "      <th></th>\n",
       "      <th></th>\n",
       "      <th></th>\n",
       "    </tr>\n",
       "  </thead>\n",
       "  <tbody>\n",
       "    <tr>\n",
       "      <th>12</th>\n",
       "      <td>2HxVNgiL</td>\n",
       "      <td>PI3K/AKT/mTOR pathway</td>\n",
       "      <td>None</td>\n",
       "      <td>None</td>\n",
       "      <td>2024-10-29 14:07:54.820080+00:00</td>\n",
       "      <td>1</td>\n",
       "    </tr>\n",
       "    <tr>\n",
       "      <th>4</th>\n",
       "      <td>CjakOwn0</td>\n",
       "      <td>MAPK/ERK pathway</td>\n",
       "      <td>None</td>\n",
       "      <td>None</td>\n",
       "      <td>2024-10-29 14:07:36.548584+00:00</td>\n",
       "      <td>1</td>\n",
       "    </tr>\n",
       "    <tr>\n",
       "      <th>8</th>\n",
       "      <td>yBJ85bnI</td>\n",
       "      <td>Proteasome pathway</td>\n",
       "      <td>None</td>\n",
       "      <td>None</td>\n",
       "      <td>2024-10-29 14:07:49.114596+00:00</td>\n",
       "      <td>1</td>\n",
       "    </tr>\n",
       "  </tbody>\n",
       "</table>\n",
       "</div>"
      ],
      "text/plain": [
       "         uid                   name description run_id  \\\n",
       "id                                                       \n",
       "12  2HxVNgiL  PI3K/AKT/mTOR pathway        None   None   \n",
       "4   CjakOwn0       MAPK/ERK pathway        None   None   \n",
       "8   yBJ85bnI     Proteasome pathway        None   None   \n",
       "\n",
       "                         created_at  created_by_id  \n",
       "id                                                  \n",
       "12 2024-10-29 14:07:54.820080+00:00              1  \n",
       "4  2024-10-29 14:07:36.548584+00:00              1  \n",
       "8  2024-10-29 14:07:49.114596+00:00              1  "
      ]
     },
     "metadata": {},
     "output_type": "display_data"
    },
    {
     "name": "stdout",
     "output_type": "stream",
     "text": [
      "\u001b[92m✓\u001b[0m created \u001b[1;95m1 Protein record from Bionty\u001b[0m matching \u001b[3muniprotkb_id\u001b[0m: \u001b[1;95m'P42345'\u001b[0m\n"
     ]
    }
   ],
   "source": [
    "compounds_to_targets = {\n",
    "    \"trametinib\": (\"MAPK/ERK pathway\", [\"P36507\"]),\n",
    "    \"afatinib\": (\"EGFR, HER2, HER4 signaling\", [\"P00533\", \"Q9UK79\", \"Q15303\"]),\n",
    "    \"dabrafenib\": (\"MAPK/ERK pathway\", [\"P15056\"]),\n",
    "    \"gemcitabine\": (\"DNA synthesis inhibition\", [\"P23921\"]),  # No single protein target\n",
    "    \"navitoclax\": (\"Apoptosis regulation\", [\"P10415\", \"Q07812\"]),\n",
    "    \"bortezomib\": (\"Proteasome pathway\", [\"P49721\"]),\n",
    "    \"brd3379\": (\"Transcription regulation (BET proteins)\", [\"O60885\"]),\n",
    "    \"JQ1\": (\"Transcription regulation (BET proteins)\", [\"O60885\"]),\n",
    "    \"azd5591\": (\"Apoptosis regulation\", [\"Q07820\"]),\n",
    "    \"control\": (\"Baseline\", [None]),  # No target for control\n",
    "    \"prexasertib\": (\"DNA damage response\", [\"O14757\"]),\n",
    "    \"taselisib\": (\"PI3K/AKT/mTOR pathway\", [\"P42336\", \"O00329\", \"P48736\"]),\n",
    "    \"idasanutlin\": (\"p53 regulation\", [\"Q00987\"]),\n",
    "    \"everolimus\": (\"mTOR pathway\", [\"P42345\"])\n",
    "}\n",
    "\n",
    "\n",
    "for compound_treatment_name, targets_tuple in compounds_to_targets.items():\n",
    "    compound_treatment = wl.CompoundTreatment.get(name=compound_treatment_name)\n",
    "    target = wl.TreatmentTarget(name=targets_tuple[0]).save()\n",
    "    proteins = []\n",
    "    for id in targets_tuple[1]:\n",
    "        if id is not None:\n",
    "            proteins.append(bt.Protein.from_source(uniprotkb_id=id).save())\n",
    "    target.proteins.set(proteins)\n",
    "    compound_treatment.targets.add(target)"
   ]
  },
  {
   "cell_type": "markdown",
   "metadata": {},
   "source": [
    "## References"
   ]
  },
  {
   "cell_type": "code",
   "execution_count": null,
   "metadata": {},
   "outputs": [],
   "source": [
    "reference = fr.Reference(\n",
    "    name=\"Multiplexed single-cell transcriptional response profiling to define cancer vulnerabilities and therapeutic mechanism of action\",\n",
    "    abbr=\"McFarland 2020\",\n",
    "    url=\"https://www.nature.com/articles/s41467-020-17440-w\",\n",
    "    doi=\"10.1038/s41467-020-17440-w\",\n",
    "    text=(\n",
    "        \"Assays to study cancer cell responses to pharmacologic or genetic perturbations are typically \"\n",
    "        \"restricted to using simple phenotypic readouts such as proliferation rate. Information-rich assays, \"\n",
    "        \"such as gene-expression profiling, have generally not permitted efficient profiling of a given \"\n",
    "        \"perturbation across multiple cellular contexts. Here, we develop MIX-Seq, a method for multiplexed \"\n",
    "        \"transcriptional profiling of post-perturbation responses across a mixture of samples with single-cell \"\n",
    "        \"resolution, using SNP-based computational demultiplexing of single-cell RNA-sequencing data. We show \"\n",
    "        \"that MIX-Seq can be used to profile responses to chemical or genetic perturbations across pools of 100 \"\n",
    "        \"or more cancer cell lines. We combine it with Cell Hashing to further multiplex additional experimental \"\n",
    "        \"conditions, such as post-treatment time points or drug doses. Analyzing the high-content readout of \"\n",
    "        \"scRNA-seq reveals both shared and context-specific transcriptional response components that can identify \"\n",
    "        \"drug mechanism of action and enable prediction of long-term cell viability from short-term transcriptional \"\n",
    "        \"responses to treatment.\"\n",
    "    ),\n",
    ").save()"
   ]
  },
  {
   "cell_type": "markdown",
   "metadata": {},
   "source": [
    "## Remove unused columns"
   ]
  },
  {
   "cell_type": "code",
   "execution_count": null,
   "metadata": {},
   "outputs": [],
   "source": [
    "adata.obs = adata.obs.drop(\n",
    "    [\n",
    "        \"depmap_id\",\n",
    "        \"cancer\",\n",
    "        \"cell_quality\",\n",
    "        \"channel\",\n",
    "        \"perturbation\",\n",
    "        \"perturbation_type\",\n",
    "        \"singlet_dev\",\n",
    "        \"singlet_dev_z\",\n",
    "        \"singlet_margin\",\n",
    "        \"singlet_z_margin\",\n",
    "        \"nperts\",\n",
    "        \"ngenes\",\n",
    "        \"ncounts\",\n",
    "        \"cell_det_rate\",\n",
    "        \"doublet_GMM_prob\",\n",
    "        \"doublet_dev_imp\",\n",
    "        \"doublet_z_margin\",\n",
    "        'doublet_CL1',\n",
    "        'doublet_CL2'\n",
    "    ],\n",
    "    axis=1,\n",
    ")"
   ]
  },
  {
   "cell_type": "markdown",
   "metadata": {},
   "source": [
    "## Register curated artifact"
   ]
  },
  {
   "cell_type": "code",
   "execution_count": null,
   "metadata": {},
   "outputs": [
    {
     "name": "stdout",
     "output_type": "stream",
     "text": [
      "\u001b[92m→\u001b[0m validating metadata using registries of instance \u001b[3mtest-perturbation\u001b[0m\n",
      "\u001b[94m•\u001b[0m saving validated records of 'var_index'\n",
      "\u001b[94m•\u001b[0m saving validated terms of 'assay'\n",
      "\u001b[94m•\u001b[0m saving validated terms of 'cell_type'\n",
      "\u001b[94m•\u001b[0m saving validated terms of 'development_stage'\n",
      "\u001b[94m•\u001b[0m saving validated terms of 'disease'\n",
      "\u001b[94m•\u001b[0m saving validated terms of 'donor_id'\n",
      "\u001b[94m•\u001b[0m saving validated terms of 'self_reported_ethnicity'\n",
      "\u001b[94m•\u001b[0m saving validated terms of 'sex'\n",
      "\u001b[94m•\u001b[0m saving validated terms of 'suspension_type'\n",
      "\u001b[94m•\u001b[0m saving validated terms of 'tissue_type'\n",
      "\u001b[94m•\u001b[0m saving validated terms of 'organism'\n",
      "\u001b[94m•\u001b[0m saving validated terms of 'cell_line'\n",
      "\u001b[94m•\u001b[0m saving validated terms of 'genetic_treatments'\n",
      "\u001b[94m•\u001b[0m saving validated terms of 'compound_treatments'\n",
      "\u001b[94m•\u001b[0m saving validated terms of 'environmental_treatments'\n",
      "\u001b[94m•\u001b[0m saving validated terms of 'combination_treatments'\n",
      "\u001b[92m✓\u001b[0m var_index is validated against \u001b[3mGene.ensembl_gene_id\u001b[0m\n",
      "\u001b[92m✓\u001b[0m assay is validated against \u001b[3mExperimentalFactor.name\u001b[0m\n",
      "\u001b[92m✓\u001b[0m cell_type is validated against \u001b[3mCellType.name\u001b[0m\n",
      "\u001b[92m✓\u001b[0m development_stage is validated against \u001b[3mDevelopmentalStage.name\u001b[0m\n",
      "\u001b[92m✓\u001b[0m disease is validated against \u001b[3mDisease.name\u001b[0m\n",
      "\u001b[92m✓\u001b[0m donor_id is validated against \u001b[3mULabel.name\u001b[0m\n",
      "\u001b[92m✓\u001b[0m self_reported_ethnicity is validated against \u001b[3mEthnicity.name\u001b[0m\n",
      "\u001b[92m✓\u001b[0m sex is validated against \u001b[3mPhenotype.name\u001b[0m\n",
      "\u001b[92m✓\u001b[0m suspension_type is validated against \u001b[3mULabel.name\u001b[0m\n",
      "\u001b[92m✓\u001b[0m tissue_type is validated against \u001b[3mULabel.name\u001b[0m\n",
      "\u001b[92m✓\u001b[0m organism is validated against \u001b[3mOrganism.name\u001b[0m\n",
      "\u001b[92m✓\u001b[0m cell_line is validated against \u001b[3mCellLine.name\u001b[0m\n",
      "\u001b[92m✓\u001b[0m genetic_treatments is validated against \u001b[3mGeneticTreatment.name\u001b[0m\n",
      "\u001b[92m✓\u001b[0m compound_treatments is validated against \u001b[3mCompoundTreatment.name\u001b[0m\n",
      "\u001b[92m✓\u001b[0m environmental_treatments is validated against \u001b[3mEnvironmentalTreatment.name\u001b[0m\n",
      "\u001b[92m✓\u001b[0m combination_treatments is validated against \u001b[3mCombinationTreatment.name\u001b[0m\n",
      "\u001b[93m!\u001b[0m no run & transform got linked, call `ln.track()` & re-run\n",
      "\u001b[93m!\u001b[0m run input wasn't tracked, call `ln.track()` and re-run\n",
      "\u001b[93m!\u001b[0m    \u001b[1;93m11 unique terms\u001b[0m (42.30%) are not validated for \u001b[3mname\u001b[0m: \u001b[1;93mdose_unit, dose_value, hash_assignment, hash_tag, num_SNPs, singlet_ID, time, tot_reads, percent_mito, percent_ribo, chembl-ID\u001b[0m\n"
     ]
    }
   ],
   "source": [
    "artifact = curator.save_artifact(description=\"McFarland AnnData\")"
   ]
  },
  {
   "cell_type": "code",
   "execution_count": null,
   "metadata": {},
   "outputs": [],
   "source": [
    "# Set the perturbations and references\n",
    "artifact.genetic_treatments.set(genetic_treatments)\n",
    "artifact.compound_treatments.set(compound_treatments)\n",
    "artifact.references.add(reference)"
   ]
  },
  {
   "cell_type": "code",
   "execution_count": null,
   "metadata": {},
   "outputs": [
    {
     "name": "stdout",
     "output_type": "stream",
     "text": [
      "\u001b[1;92mArtifact\u001b[0m(uid='y3B2kwItyAgpru4G0000', is_latest=True, description='McFarland AnnData', suffix='.h5ad', type='dataset', size=3345456, hash='dETFEMNWe6nH2enh1PNUTg', n_observations=1000, _hash_type='md5', _accessor='AnnData', visibility=1, _key_is_virtual=True, created_at=2024-10-29 14:08:04 UTC)\n",
      "  \u001b[3mProvenance\u001b[0m\n",
      "    .storage = '/home/zeth/PycharmProjects/pertpy-datasets/lamin/test-perturbation'\n",
      "    .created_by = 'zethson'\n",
      "  \u001b[3mLabels\u001b[0m\n",
      "    .references = 'Multiplexed single-cell transcriptional response profiling to define cancer vulnerabilities and therapeutic mechanism of action'\n",
      "    .genetic_treatments = 'sggpx4-1', 'sggpx4-2', 'sgor2j2', 'sglacz'\n",
      "    .compound_treatments = 'trametinib', 'afatinib', 'dabrafenib', 'gemcitabine', 'navitoclax', 'bortezomib', 'brd3379', 'JQ1', 'azd5591', 'control', ...\n",
      "    .organisms = 'human'\n",
      "    .cell_types = 'unknown'\n",
      "    .diseases = 'lung cancer', 'urinary bladder carcinoma', 'colorectal cancer', 'head and neck cancer', 'brain cancer', 'skin cancer', 'gastric cancer', 'esophageal cancer', 'ovarian cancer', 'malignant pancreatic neoplasm', ...\n",
      "    .cell_lines = 'LUDLU-1', 'LU99', 'J82', 'HCT-15', 'YD-10B', 'SNB75', 'SK-MEL-2', 'UM-UC-1', 'AGS', 'COLO-680N', ...\n",
      "    .phenotypes = 'male', 'female', 'unknown'\n",
      "    .experimental_factors = 'single-cell RNA sequencing'\n",
      "    .developmental_stages = 'unknown'\n",
      "    .ethnicities = 'unknown'\n",
      "    .ulabels = 'unknown', 'cell', 'cell_line'\n",
      "  \u001b[3mFeatures\u001b[0m\n",
      "    'assay' = 'single-cell RNA sequencing'\n",
      "    'cell_line' = '22Rv1', '253J-BV', '42-MG-BA', '639-V', '647-V', '769-P', '786-O', '8505C', 'A-375', 'A2780', ...\n",
      "    'cell_type' = 'unknown'\n",
      "    'development_stage' = 'unknown'\n",
      "    'disease' = 'bile duct cancer', 'bone cancer', 'brain cancer', 'breast cancer', 'colorectal cancer', 'esophageal cancer', 'gastric cancer', 'head and neck cancer', 'kidney cancer', 'liver cancer', ...\n",
      "    'donor_id' = 'unknown'\n",
      "    'organism' = 'human'\n",
      "    'self_reported_ethnicity' = 'unknown'\n",
      "    'sex' = 'female', 'male', 'unknown'\n",
      "    'suspension_type' = 'cell'\n",
      "    'tissue_type' = 'cell_line'\n",
      "  \u001b[3mFeature sets\u001b[0m\n",
      "    'var' = 'MAGED2', 'CPE', 'DDX43', 'SPANXA2', 'LNCPRESS1', 'TMEM175', 'None', 'MMD', 'LINC01834', 'DYNC2I1', 'CCRL2', 'MRPS6', 'KCNH1', 'TBILA', 'SLC5A7', 'GSX2', 'ATP5MG', 'TMEM190', 'GTF2H1'\n",
      "    'obs' = 'assay', 'cell_type', 'development_stage', 'disease', 'donor_id', 'self_reported_ethnicity', 'sex', 'suspension_type', 'tissue_type', 'organism', 'cell_line', 'genetic_treatments', 'compound_treatments', 'environmental_treatments', 'combination_treatments'\n",
      "\n"
     ]
    }
   ],
   "source": [
    "artifact.describe()"
   ]
  },
  {
   "cell_type": "code",
   "execution_count": null,
   "metadata": {},
   "outputs": [],
   "source": [
    "ln.context.finish()"
   ]
  }
 ],
 "metadata": {
  "kernelspec": {
   "display_name": "lamindb",
   "language": "python",
   "name": "python3"
  },
  "language_info": {
   "codemirror_mode": {
    "name": "ipython",
    "version": 3
   },
   "file_extension": ".py",
   "mimetype": "text/x-python",
   "name": "python",
   "nbconvert_exporter": "python",
   "pygments_lexer": "ipython3",
   "version": "3.11.7"
  }
 },
 "nbformat": 4,
 "nbformat_minor": 2
}
